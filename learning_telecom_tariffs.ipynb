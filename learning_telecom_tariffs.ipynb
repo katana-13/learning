{
 "cells": [
  {
   "cell_type": "markdown",
   "metadata": {},
   "source": [
    "# Определение перспективного тарифа для телеком компании"
   ]
  },
  {
   "cell_type": "markdown",
   "metadata": {},
   "source": [
    "### Описание проекта\n",
    "\n",
    "Заказчик - оператор сотовой связи.\n",
    "Клиентам предлагают два тарифных плана: «Смарт» и «Ультра». Имеются данные 500 пользователей компании: кто они, откуда, каким тарифом пользуются, сколько звонков и сообщений каждый отправил за 2018 год.\n",
    "\n",
    "Необходимо выполнить предварительный анализ тарифов на небольшой выборке клиентов для планирования рекламного бюджета, определить более прибыльный тариф на основании поведения клиентов. Для анализа заказчиком предоставлены данные о пользователях, об объемах услуг, использованных клиентами за 2018 год, и информация о тарифных планах."
   ]
  },
  {
   "cell_type": "markdown",
   "metadata": {},
   "source": [
    "### Содержание <a id=\"content\"></a>\n",
    "Шаг 1. [Изучение общей информации](#step_1)\n",
    "\n",
    "Шаг 2. [Подготовка данных](#step_2)\n",
    "* Предобработка данных\n",
    "  \n",
    "  *Определение данных для каждого пользователя*\n",
    "* количество сделанных звонков и израсходованных минут разговора по месяцам\n",
    "* количество отправленных сообщений по месяцам\n",
    "* объем израсходованного интернет-трафика по месяцам\n",
    "* помесячная выручка с каждого пользователя\n",
    "\n",
    "Шаг 3. [Анализ данных](#step_3)\n",
    "\n",
    "Шаг 4. [Проверка гипотез](#step_4)\n",
    "\n",
    "Шаг 5. [Общий вывод](#step_5)"
   ]
  },
  {
   "cell_type": "markdown",
   "metadata": {},
   "source": [
    "### [Шаг 1. Изучение общей информации](#content) <a id=\"step_1\"></a>"
   ]
  },
  {
   "cell_type": "code",
   "execution_count": 1,
   "metadata": {},
   "outputs": [],
   "source": [
    "#импорты и настройки\n",
    "import pandas as pd\n",
    "import numpy as np\n",
    "import matplotlib.pyplot as plt\n",
    "from scipy import stats as st\n",
    "\n",
    "#чтение файлов\n",
    "calls = pd.read_csv('/datasets/calls.csv')\n",
    "internet = pd.read_csv('/datasets/internet.csv', index_col=0)#в исходном датафрейме имеется колонка с индексами \n",
    "messages = pd.read_csv('/datasets/messages.csv')\n",
    "tariffs = pd.read_csv('/datasets/tariffs.csv', index_col = 'tariff_name')#за индекс примем наименование тарифа\n",
    "users = pd.read_csv('/datasets/users.csv')"
   ]
  },
  {
   "cell_type": "markdown",
   "metadata": {},
   "source": [
    "* информация о пользователях:"
   ]
  },
  {
   "cell_type": "code",
   "execution_count": 2,
   "metadata": {},
   "outputs": [
    {
     "name": "stdout",
     "output_type": "stream",
     "text": [
      "<class 'pandas.core.frame.DataFrame'>\n",
      "RangeIndex: 500 entries, 0 to 499\n",
      "Data columns (total 8 columns):\n",
      " #   Column      Non-Null Count  Dtype \n",
      "---  ------      --------------  ----- \n",
      " 0   user_id     500 non-null    int64 \n",
      " 1   age         500 non-null    int64 \n",
      " 2   churn_date  38 non-null     object\n",
      " 3   city        500 non-null    object\n",
      " 4   first_name  500 non-null    object\n",
      " 5   last_name   500 non-null    object\n",
      " 6   reg_date    500 non-null    object\n",
      " 7   tariff      500 non-null    object\n",
      "dtypes: int64(2), object(6)\n",
      "memory usage: 31.4+ KB\n"
     ]
    },
    {
     "data": {
      "text/plain": [
       "None"
      ]
     },
     "metadata": {},
     "output_type": "display_data"
    },
    {
     "data": {
      "text/html": [
       "<div>\n",
       "<style scoped>\n",
       "    .dataframe tbody tr th:only-of-type {\n",
       "        vertical-align: middle;\n",
       "    }\n",
       "\n",
       "    .dataframe tbody tr th {\n",
       "        vertical-align: top;\n",
       "    }\n",
       "\n",
       "    .dataframe thead th {\n",
       "        text-align: right;\n",
       "    }\n",
       "</style>\n",
       "<table border=\"1\" class=\"dataframe\">\n",
       "  <thead>\n",
       "    <tr style=\"text-align: right;\">\n",
       "      <th></th>\n",
       "      <th>user_id</th>\n",
       "      <th>age</th>\n",
       "      <th>churn_date</th>\n",
       "      <th>city</th>\n",
       "      <th>first_name</th>\n",
       "      <th>last_name</th>\n",
       "      <th>reg_date</th>\n",
       "      <th>tariff</th>\n",
       "    </tr>\n",
       "  </thead>\n",
       "  <tbody>\n",
       "    <tr>\n",
       "      <th>0</th>\n",
       "      <td>1000</td>\n",
       "      <td>52</td>\n",
       "      <td>NaN</td>\n",
       "      <td>Краснодар</td>\n",
       "      <td>Рафаил</td>\n",
       "      <td>Верещагин</td>\n",
       "      <td>2018-05-25</td>\n",
       "      <td>ultra</td>\n",
       "    </tr>\n",
       "    <tr>\n",
       "      <th>1</th>\n",
       "      <td>1001</td>\n",
       "      <td>41</td>\n",
       "      <td>NaN</td>\n",
       "      <td>Москва</td>\n",
       "      <td>Иван</td>\n",
       "      <td>Ежов</td>\n",
       "      <td>2018-11-01</td>\n",
       "      <td>smart</td>\n",
       "    </tr>\n",
       "    <tr>\n",
       "      <th>2</th>\n",
       "      <td>1002</td>\n",
       "      <td>59</td>\n",
       "      <td>NaN</td>\n",
       "      <td>Стерлитамак</td>\n",
       "      <td>Евгений</td>\n",
       "      <td>Абрамович</td>\n",
       "      <td>2018-06-17</td>\n",
       "      <td>smart</td>\n",
       "    </tr>\n",
       "    <tr>\n",
       "      <th>3</th>\n",
       "      <td>1003</td>\n",
       "      <td>23</td>\n",
       "      <td>NaN</td>\n",
       "      <td>Москва</td>\n",
       "      <td>Белла</td>\n",
       "      <td>Белякова</td>\n",
       "      <td>2018-08-17</td>\n",
       "      <td>ultra</td>\n",
       "    </tr>\n",
       "    <tr>\n",
       "      <th>4</th>\n",
       "      <td>1004</td>\n",
       "      <td>68</td>\n",
       "      <td>NaN</td>\n",
       "      <td>Новокузнецк</td>\n",
       "      <td>Татьяна</td>\n",
       "      <td>Авдеенко</td>\n",
       "      <td>2018-05-14</td>\n",
       "      <td>ultra</td>\n",
       "    </tr>\n",
       "  </tbody>\n",
       "</table>\n",
       "</div>"
      ],
      "text/plain": [
       "   user_id  age churn_date         city first_name  last_name    reg_date  \\\n",
       "0     1000   52        NaN    Краснодар     Рафаил  Верещагин  2018-05-25   \n",
       "1     1001   41        NaN       Москва       Иван       Ежов  2018-11-01   \n",
       "2     1002   59        NaN  Стерлитамак    Евгений  Абрамович  2018-06-17   \n",
       "3     1003   23        NaN       Москва      Белла   Белякова  2018-08-17   \n",
       "4     1004   68        NaN  Новокузнецк    Татьяна   Авдеенко  2018-05-14   \n",
       "\n",
       "  tariff  \n",
       "0  ultra  \n",
       "1  smart  \n",
       "2  smart  \n",
       "3  ultra  \n",
       "4  ultra  "
      ]
     },
     "metadata": {},
     "output_type": "display_data"
    },
    {
     "data": {
      "text/html": [
       "<div>\n",
       "<style scoped>\n",
       "    .dataframe tbody tr th:only-of-type {\n",
       "        vertical-align: middle;\n",
       "    }\n",
       "\n",
       "    .dataframe tbody tr th {\n",
       "        vertical-align: top;\n",
       "    }\n",
       "\n",
       "    .dataframe thead th {\n",
       "        text-align: right;\n",
       "    }\n",
       "</style>\n",
       "<table border=\"1\" class=\"dataframe\">\n",
       "  <thead>\n",
       "    <tr style=\"text-align: right;\">\n",
       "      <th></th>\n",
       "      <th>user_id</th>\n",
       "      <th>age</th>\n",
       "      <th>churn_date</th>\n",
       "      <th>city</th>\n",
       "      <th>first_name</th>\n",
       "      <th>last_name</th>\n",
       "      <th>reg_date</th>\n",
       "      <th>tariff</th>\n",
       "    </tr>\n",
       "  </thead>\n",
       "  <tbody>\n",
       "    <tr>\n",
       "      <th>366</th>\n",
       "      <td>1366</td>\n",
       "      <td>43</td>\n",
       "      <td>NaN</td>\n",
       "      <td>Санкт-Петербург</td>\n",
       "      <td>Василиса</td>\n",
       "      <td>Фетисова</td>\n",
       "      <td>2018-06-14</td>\n",
       "      <td>smart</td>\n",
       "    </tr>\n",
       "    <tr>\n",
       "      <th>233</th>\n",
       "      <td>1233</td>\n",
       "      <td>28</td>\n",
       "      <td>NaN</td>\n",
       "      <td>Воронеж</td>\n",
       "      <td>Сара</td>\n",
       "      <td>Алфимова</td>\n",
       "      <td>2018-05-23</td>\n",
       "      <td>smart</td>\n",
       "    </tr>\n",
       "    <tr>\n",
       "      <th>131</th>\n",
       "      <td>1131</td>\n",
       "      <td>36</td>\n",
       "      <td>NaN</td>\n",
       "      <td>Чита</td>\n",
       "      <td>Нина</td>\n",
       "      <td>Афонасьева</td>\n",
       "      <td>2018-12-08</td>\n",
       "      <td>smart</td>\n",
       "    </tr>\n",
       "    <tr>\n",
       "      <th>103</th>\n",
       "      <td>1103</td>\n",
       "      <td>52</td>\n",
       "      <td>NaN</td>\n",
       "      <td>Екатеринбург</td>\n",
       "      <td>Эльвира</td>\n",
       "      <td>Лобанова</td>\n",
       "      <td>2018-12-04</td>\n",
       "      <td>smart</td>\n",
       "    </tr>\n",
       "    <tr>\n",
       "      <th>76</th>\n",
       "      <td>1076</td>\n",
       "      <td>40</td>\n",
       "      <td>NaN</td>\n",
       "      <td>Уфа</td>\n",
       "      <td>Фёдор</td>\n",
       "      <td>Шарапов</td>\n",
       "      <td>2018-03-10</td>\n",
       "      <td>smart</td>\n",
       "    </tr>\n",
       "  </tbody>\n",
       "</table>\n",
       "</div>"
      ],
      "text/plain": [
       "     user_id  age churn_date             city first_name   last_name  \\\n",
       "366     1366   43        NaN  Санкт-Петербург   Василиса    Фетисова   \n",
       "233     1233   28        NaN          Воронеж       Сара    Алфимова   \n",
       "131     1131   36        NaN             Чита       Нина  Афонасьева   \n",
       "103     1103   52        NaN     Екатеринбург    Эльвира    Лобанова   \n",
       "76      1076   40        NaN              Уфа      Фёдор     Шарапов   \n",
       "\n",
       "       reg_date tariff  \n",
       "366  2018-06-14  smart  \n",
       "233  2018-05-23  smart  \n",
       "131  2018-12-08  smart  \n",
       "103  2018-12-04  smart  \n",
       "76   2018-03-10  smart  "
      ]
     },
     "metadata": {},
     "output_type": "display_data"
    }
   ],
   "source": [
    "display(users.info(),users.head(5), users.sample(5))"
   ]
  },
  {
   "cell_type": "markdown",
   "metadata": {},
   "source": [
    "* информация о звонках:"
   ]
  },
  {
   "cell_type": "code",
   "execution_count": 3,
   "metadata": {},
   "outputs": [
    {
     "name": "stdout",
     "output_type": "stream",
     "text": [
      "<class 'pandas.core.frame.DataFrame'>\n",
      "RangeIndex: 202607 entries, 0 to 202606\n",
      "Data columns (total 4 columns):\n",
      " #   Column     Non-Null Count   Dtype  \n",
      "---  ------     --------------   -----  \n",
      " 0   id         202607 non-null  object \n",
      " 1   call_date  202607 non-null  object \n",
      " 2   duration   202607 non-null  float64\n",
      " 3   user_id    202607 non-null  int64  \n",
      "dtypes: float64(1), int64(1), object(2)\n",
      "memory usage: 6.2+ MB\n"
     ]
    },
    {
     "data": {
      "text/plain": [
       "None"
      ]
     },
     "metadata": {},
     "output_type": "display_data"
    },
    {
     "data": {
      "text/html": [
       "<div>\n",
       "<style scoped>\n",
       "    .dataframe tbody tr th:only-of-type {\n",
       "        vertical-align: middle;\n",
       "    }\n",
       "\n",
       "    .dataframe tbody tr th {\n",
       "        vertical-align: top;\n",
       "    }\n",
       "\n",
       "    .dataframe thead th {\n",
       "        text-align: right;\n",
       "    }\n",
       "</style>\n",
       "<table border=\"1\" class=\"dataframe\">\n",
       "  <thead>\n",
       "    <tr style=\"text-align: right;\">\n",
       "      <th></th>\n",
       "      <th>id</th>\n",
       "      <th>call_date</th>\n",
       "      <th>duration</th>\n",
       "      <th>user_id</th>\n",
       "    </tr>\n",
       "  </thead>\n",
       "  <tbody>\n",
       "    <tr>\n",
       "      <th>0</th>\n",
       "      <td>1000_0</td>\n",
       "      <td>2018-07-25</td>\n",
       "      <td>0.00</td>\n",
       "      <td>1000</td>\n",
       "    </tr>\n",
       "    <tr>\n",
       "      <th>1</th>\n",
       "      <td>1000_1</td>\n",
       "      <td>2018-08-17</td>\n",
       "      <td>0.00</td>\n",
       "      <td>1000</td>\n",
       "    </tr>\n",
       "    <tr>\n",
       "      <th>2</th>\n",
       "      <td>1000_2</td>\n",
       "      <td>2018-06-11</td>\n",
       "      <td>2.85</td>\n",
       "      <td>1000</td>\n",
       "    </tr>\n",
       "    <tr>\n",
       "      <th>3</th>\n",
       "      <td>1000_3</td>\n",
       "      <td>2018-09-21</td>\n",
       "      <td>13.80</td>\n",
       "      <td>1000</td>\n",
       "    </tr>\n",
       "    <tr>\n",
       "      <th>4</th>\n",
       "      <td>1000_4</td>\n",
       "      <td>2018-12-15</td>\n",
       "      <td>5.18</td>\n",
       "      <td>1000</td>\n",
       "    </tr>\n",
       "  </tbody>\n",
       "</table>\n",
       "</div>"
      ],
      "text/plain": [
       "       id   call_date  duration  user_id\n",
       "0  1000_0  2018-07-25      0.00     1000\n",
       "1  1000_1  2018-08-17      0.00     1000\n",
       "2  1000_2  2018-06-11      2.85     1000\n",
       "3  1000_3  2018-09-21     13.80     1000\n",
       "4  1000_4  2018-12-15      5.18     1000"
      ]
     },
     "metadata": {},
     "output_type": "display_data"
    }
   ],
   "source": [
    "display(calls.info(),calls.head(5))"
   ]
  },
  {
   "cell_type": "markdown",
   "metadata": {},
   "source": [
    "* информация о сообщениях:"
   ]
  },
  {
   "cell_type": "code",
   "execution_count": 4,
   "metadata": {},
   "outputs": [
    {
     "name": "stdout",
     "output_type": "stream",
     "text": [
      "<class 'pandas.core.frame.DataFrame'>\n",
      "RangeIndex: 123036 entries, 0 to 123035\n",
      "Data columns (total 3 columns):\n",
      " #   Column        Non-Null Count   Dtype \n",
      "---  ------        --------------   ----- \n",
      " 0   id            123036 non-null  object\n",
      " 1   message_date  123036 non-null  object\n",
      " 2   user_id       123036 non-null  int64 \n",
      "dtypes: int64(1), object(2)\n",
      "memory usage: 2.8+ MB\n"
     ]
    },
    {
     "data": {
      "text/plain": [
       "None"
      ]
     },
     "metadata": {},
     "output_type": "display_data"
    },
    {
     "data": {
      "text/html": [
       "<div>\n",
       "<style scoped>\n",
       "    .dataframe tbody tr th:only-of-type {\n",
       "        vertical-align: middle;\n",
       "    }\n",
       "\n",
       "    .dataframe tbody tr th {\n",
       "        vertical-align: top;\n",
       "    }\n",
       "\n",
       "    .dataframe thead th {\n",
       "        text-align: right;\n",
       "    }\n",
       "</style>\n",
       "<table border=\"1\" class=\"dataframe\">\n",
       "  <thead>\n",
       "    <tr style=\"text-align: right;\">\n",
       "      <th></th>\n",
       "      <th>id</th>\n",
       "      <th>message_date</th>\n",
       "      <th>user_id</th>\n",
       "    </tr>\n",
       "  </thead>\n",
       "  <tbody>\n",
       "    <tr>\n",
       "      <th>0</th>\n",
       "      <td>1000_0</td>\n",
       "      <td>2018-06-27</td>\n",
       "      <td>1000</td>\n",
       "    </tr>\n",
       "    <tr>\n",
       "      <th>1</th>\n",
       "      <td>1000_1</td>\n",
       "      <td>2018-10-08</td>\n",
       "      <td>1000</td>\n",
       "    </tr>\n",
       "    <tr>\n",
       "      <th>2</th>\n",
       "      <td>1000_2</td>\n",
       "      <td>2018-08-04</td>\n",
       "      <td>1000</td>\n",
       "    </tr>\n",
       "    <tr>\n",
       "      <th>3</th>\n",
       "      <td>1000_3</td>\n",
       "      <td>2018-06-16</td>\n",
       "      <td>1000</td>\n",
       "    </tr>\n",
       "    <tr>\n",
       "      <th>4</th>\n",
       "      <td>1000_4</td>\n",
       "      <td>2018-12-05</td>\n",
       "      <td>1000</td>\n",
       "    </tr>\n",
       "  </tbody>\n",
       "</table>\n",
       "</div>"
      ],
      "text/plain": [
       "       id message_date  user_id\n",
       "0  1000_0   2018-06-27     1000\n",
       "1  1000_1   2018-10-08     1000\n",
       "2  1000_2   2018-08-04     1000\n",
       "3  1000_3   2018-06-16     1000\n",
       "4  1000_4   2018-12-05     1000"
      ]
     },
     "metadata": {},
     "output_type": "display_data"
    }
   ],
   "source": [
    "display(messages.info(),messages.head(5))"
   ]
  },
  {
   "cell_type": "code",
   "execution_count": 5,
   "metadata": {},
   "outputs": [
    {
     "name": "stdout",
     "output_type": "stream",
     "text": [
      "<class 'pandas.core.frame.DataFrame'>\n",
      "Int64Index: 149396 entries, 0 to 149395\n",
      "Data columns (total 4 columns):\n",
      " #   Column        Non-Null Count   Dtype  \n",
      "---  ------        --------------   -----  \n",
      " 0   id            149396 non-null  object \n",
      " 1   mb_used       149396 non-null  float64\n",
      " 2   session_date  149396 non-null  object \n",
      " 3   user_id       149396 non-null  int64  \n",
      "dtypes: float64(1), int64(1), object(2)\n",
      "memory usage: 5.7+ MB\n"
     ]
    },
    {
     "data": {
      "text/plain": [
       "None"
      ]
     },
     "metadata": {},
     "output_type": "display_data"
    },
    {
     "data": {
      "text/html": [
       "<div>\n",
       "<style scoped>\n",
       "    .dataframe tbody tr th:only-of-type {\n",
       "        vertical-align: middle;\n",
       "    }\n",
       "\n",
       "    .dataframe tbody tr th {\n",
       "        vertical-align: top;\n",
       "    }\n",
       "\n",
       "    .dataframe thead th {\n",
       "        text-align: right;\n",
       "    }\n",
       "</style>\n",
       "<table border=\"1\" class=\"dataframe\">\n",
       "  <thead>\n",
       "    <tr style=\"text-align: right;\">\n",
       "      <th></th>\n",
       "      <th>id</th>\n",
       "      <th>mb_used</th>\n",
       "      <th>session_date</th>\n",
       "      <th>user_id</th>\n",
       "    </tr>\n",
       "  </thead>\n",
       "  <tbody>\n",
       "    <tr>\n",
       "      <th>0</th>\n",
       "      <td>1000_0</td>\n",
       "      <td>112.95</td>\n",
       "      <td>2018-11-25</td>\n",
       "      <td>1000</td>\n",
       "    </tr>\n",
       "    <tr>\n",
       "      <th>1</th>\n",
       "      <td>1000_1</td>\n",
       "      <td>1052.81</td>\n",
       "      <td>2018-09-07</td>\n",
       "      <td>1000</td>\n",
       "    </tr>\n",
       "    <tr>\n",
       "      <th>2</th>\n",
       "      <td>1000_2</td>\n",
       "      <td>1197.26</td>\n",
       "      <td>2018-06-25</td>\n",
       "      <td>1000</td>\n",
       "    </tr>\n",
       "    <tr>\n",
       "      <th>3</th>\n",
       "      <td>1000_3</td>\n",
       "      <td>550.27</td>\n",
       "      <td>2018-08-22</td>\n",
       "      <td>1000</td>\n",
       "    </tr>\n",
       "    <tr>\n",
       "      <th>4</th>\n",
       "      <td>1000_4</td>\n",
       "      <td>302.56</td>\n",
       "      <td>2018-09-24</td>\n",
       "      <td>1000</td>\n",
       "    </tr>\n",
       "  </tbody>\n",
       "</table>\n",
       "</div>"
      ],
      "text/plain": [
       "       id  mb_used session_date  user_id\n",
       "0  1000_0   112.95   2018-11-25     1000\n",
       "1  1000_1  1052.81   2018-09-07     1000\n",
       "2  1000_2  1197.26   2018-06-25     1000\n",
       "3  1000_3   550.27   2018-08-22     1000\n",
       "4  1000_4   302.56   2018-09-24     1000"
      ]
     },
     "metadata": {},
     "output_type": "display_data"
    }
   ],
   "source": [
    "display(internet.info(),internet.head(5))"
   ]
  },
  {
   "cell_type": "markdown",
   "metadata": {},
   "source": [
    "* информация о тарифах:\n",
    "\n",
    "(*при открытии файла имя тарифа указано в качестве индекса, эта таблица может быть использована в качестве словаря для определения стоимости оплаченных услуг*)"
   ]
  },
  {
   "cell_type": "code",
   "execution_count": 6,
   "metadata": {},
   "outputs": [
    {
     "name": "stdout",
     "output_type": "stream",
     "text": [
      "<class 'pandas.core.frame.DataFrame'>\n",
      "Index: 2 entries, smart to ultra\n",
      "Data columns (total 7 columns):\n",
      " #   Column                 Non-Null Count  Dtype\n",
      "---  ------                 --------------  -----\n",
      " 0   messages_included      2 non-null      int64\n",
      " 1   mb_per_month_included  2 non-null      int64\n",
      " 2   minutes_included       2 non-null      int64\n",
      " 3   rub_monthly_fee        2 non-null      int64\n",
      " 4   rub_per_gb             2 non-null      int64\n",
      " 5   rub_per_message        2 non-null      int64\n",
      " 6   rub_per_minute         2 non-null      int64\n",
      "dtypes: int64(7)\n",
      "memory usage: 128.0+ bytes\n"
     ]
    },
    {
     "data": {
      "text/plain": [
       "None"
      ]
     },
     "metadata": {},
     "output_type": "display_data"
    },
    {
     "data": {
      "text/html": [
       "<div>\n",
       "<style scoped>\n",
       "    .dataframe tbody tr th:only-of-type {\n",
       "        vertical-align: middle;\n",
       "    }\n",
       "\n",
       "    .dataframe tbody tr th {\n",
       "        vertical-align: top;\n",
       "    }\n",
       "\n",
       "    .dataframe thead th {\n",
       "        text-align: right;\n",
       "    }\n",
       "</style>\n",
       "<table border=\"1\" class=\"dataframe\">\n",
       "  <thead>\n",
       "    <tr style=\"text-align: right;\">\n",
       "      <th></th>\n",
       "      <th>messages_included</th>\n",
       "      <th>mb_per_month_included</th>\n",
       "      <th>minutes_included</th>\n",
       "      <th>rub_monthly_fee</th>\n",
       "      <th>rub_per_gb</th>\n",
       "      <th>rub_per_message</th>\n",
       "      <th>rub_per_minute</th>\n",
       "    </tr>\n",
       "    <tr>\n",
       "      <th>tariff_name</th>\n",
       "      <th></th>\n",
       "      <th></th>\n",
       "      <th></th>\n",
       "      <th></th>\n",
       "      <th></th>\n",
       "      <th></th>\n",
       "      <th></th>\n",
       "    </tr>\n",
       "  </thead>\n",
       "  <tbody>\n",
       "    <tr>\n",
       "      <th>smart</th>\n",
       "      <td>50</td>\n",
       "      <td>15360</td>\n",
       "      <td>500</td>\n",
       "      <td>550</td>\n",
       "      <td>200</td>\n",
       "      <td>3</td>\n",
       "      <td>3</td>\n",
       "    </tr>\n",
       "    <tr>\n",
       "      <th>ultra</th>\n",
       "      <td>1000</td>\n",
       "      <td>30720</td>\n",
       "      <td>3000</td>\n",
       "      <td>1950</td>\n",
       "      <td>150</td>\n",
       "      <td>1</td>\n",
       "      <td>1</td>\n",
       "    </tr>\n",
       "  </tbody>\n",
       "</table>\n",
       "</div>"
      ],
      "text/plain": [
       "             messages_included  mb_per_month_included  minutes_included  \\\n",
       "tariff_name                                                               \n",
       "smart                       50                  15360               500   \n",
       "ultra                     1000                  30720              3000   \n",
       "\n",
       "             rub_monthly_fee  rub_per_gb  rub_per_message  rub_per_minute  \n",
       "tariff_name                                                                \n",
       "smart                    550         200                3               3  \n",
       "ultra                   1950         150                1               1  "
      ]
     },
     "metadata": {},
     "output_type": "display_data"
    }
   ],
   "source": [
    "display(tariffs.info(), tariffs)"
   ]
  },
  {
   "cell_type": "markdown",
   "metadata": {},
   "source": [
    "*Уточним период, за который имеется информация (из описания нам известно, что данные за 2018 год)*"
   ]
  },
  {
   "cell_type": "code",
   "execution_count": 7,
   "metadata": {},
   "outputs": [
    {
     "data": {
      "text/plain": [
       "2018-12-31    1435\n",
       "2018-12-29    1202\n",
       "2018-12-30    1192\n",
       "2018-12-22    1158\n",
       "2018-12-26    1149\n",
       "              ... \n",
       "2018-01-05      20\n",
       "2018-01-07      18\n",
       "2018-01-02       9\n",
       "2018-01-03       7\n",
       "2018-01-01       5\n",
       "Name: call_date, Length: 365, dtype: int64"
      ]
     },
     "execution_count": 7,
     "metadata": {},
     "output_type": "execute_result"
    }
   ],
   "source": [
    "calls['call_date'].value_counts()"
   ]
  },
  {
   "cell_type": "markdown",
   "metadata": {},
   "source": [
    "### Вывод"
   ]
  },
  {
   "cell_type": "markdown",
   "metadata": {},
   "source": [
    "#### Для анализа представлены файлы с данными по пользователям за один год. Уникальный идентификатор пользователя в каждом файле хранится в переменной `user_id`, который станет ключом для объединения таблиц. Типы переменных различны, информация о дате - имеет тип переменной `object`, требуется обработка. Имеется лишний столбец `Unnamed: 0` в файле с информацией об интернет-сессиях (дублирует индекс строкиВ таблице с информацией о пользователях в столбце churn_date только 38 значений типа object (это - дата прекращения пользования тарифом), для остальных пользователей тариф еще действует."
   ]
  },
  {
   "cell_type": "markdown",
   "metadata": {},
   "source": [
    "### [Шаг 2. Подготовка данных](#content) <a id=\"step_2\"></a>"
   ]
  },
  {
   "cell_type": "markdown",
   "metadata": {},
   "source": [
    "* технически заменим отсутствующие значения даты смены тарифного плана"
   ]
  },
  {
   "cell_type": "code",
   "execution_count": 8,
   "metadata": {},
   "outputs": [],
   "source": [
    "users['churn_date'] = users['churn_date'].fillna('2030-01-01')"
   ]
  },
  {
   "cell_type": "markdown",
   "metadata": {},
   "source": [
    "* изменим в столбцах с датами тип данных на соответствующий"
   ]
  },
  {
   "cell_type": "code",
   "execution_count": 9,
   "metadata": {},
   "outputs": [],
   "source": [
    "users['reg_date'] = pd.to_datetime(users['reg_date'],format='%Y-%m-%dT%H:%M:%S')\n",
    "users['churn_date'] = pd.to_datetime(users['churn_date'],format='%Y-%m-%dT%H:%M:%S')\n",
    "calls['call_date'] = pd.to_datetime(calls['call_date'],format='%Y-%m-%dT%H:%M:%S')\n",
    "messages['message_date'] = pd.to_datetime(messages['message_date'],format='%Y-%m-%dT%H:%M:%S')\n",
    "internet['session_date'] = pd.to_datetime(internet['session_date'],format='%Y-%m-%dT%H:%M:%S')"
   ]
  },
  {
   "cell_type": "markdown",
   "metadata": {},
   "source": [
    "* просмотрим информацию о длительности интернет-соединений; соединениях, где трафик больше нуля; соотношение количества"
   ]
  },
  {
   "cell_type": "code",
   "execution_count": 10,
   "metadata": {},
   "outputs": [
    {
     "data": {
      "text/plain": [
       "0.00      19598\n",
       "197.56        9\n",
       "447.30        9\n",
       "335.91        9\n",
       "108.95        8\n",
       "          ...  \n",
       "72.49         1\n",
       "846.22        1\n",
       "429.17        1\n",
       "899.03        1\n",
       "483.87        1\n",
       "Name: mb_used, Length: 70003, dtype: int64"
      ]
     },
     "execution_count": 10,
     "metadata": {},
     "output_type": "execute_result"
    }
   ],
   "source": [
    "internet['mb_used'].value_counts()  "
   ]
  },
  {
   "cell_type": "code",
   "execution_count": 11,
   "metadata": {},
   "outputs": [
    {
     "data": {
      "text/html": [
       "<div>\n",
       "<style scoped>\n",
       "    .dataframe tbody tr th:only-of-type {\n",
       "        vertical-align: middle;\n",
       "    }\n",
       "\n",
       "    .dataframe tbody tr th {\n",
       "        vertical-align: top;\n",
       "    }\n",
       "\n",
       "    .dataframe thead th {\n",
       "        text-align: right;\n",
       "    }\n",
       "</style>\n",
       "<table border=\"1\" class=\"dataframe\">\n",
       "  <thead>\n",
       "    <tr style=\"text-align: right;\">\n",
       "      <th></th>\n",
       "      <th>id</th>\n",
       "      <th>mb_used</th>\n",
       "      <th>session_date</th>\n",
       "      <th>user_id</th>\n",
       "    </tr>\n",
       "  </thead>\n",
       "  <tbody>\n",
       "    <tr>\n",
       "      <th>15944</th>\n",
       "      <td>1055_402</td>\n",
       "      <td>0.03</td>\n",
       "      <td>2018-06-15</td>\n",
       "      <td>1055</td>\n",
       "    </tr>\n",
       "    <tr>\n",
       "      <th>85722</th>\n",
       "      <td>1291_278</td>\n",
       "      <td>0.04</td>\n",
       "      <td>2018-08-10</td>\n",
       "      <td>1291</td>\n",
       "    </tr>\n",
       "    <tr>\n",
       "      <th>108198</th>\n",
       "      <td>1370_3</td>\n",
       "      <td>0.06</td>\n",
       "      <td>2018-07-18</td>\n",
       "      <td>1370</td>\n",
       "    </tr>\n",
       "    <tr>\n",
       "      <th>11027</th>\n",
       "      <td>1038_76</td>\n",
       "      <td>0.07</td>\n",
       "      <td>2018-12-30</td>\n",
       "      <td>1038</td>\n",
       "    </tr>\n",
       "    <tr>\n",
       "      <th>11399</th>\n",
       "      <td>1040_22</td>\n",
       "      <td>0.07</td>\n",
       "      <td>2018-11-23</td>\n",
       "      <td>1040</td>\n",
       "    </tr>\n",
       "    <tr>\n",
       "      <th>...</th>\n",
       "      <td>...</td>\n",
       "      <td>...</td>\n",
       "      <td>...</td>\n",
       "      <td>...</td>\n",
       "    </tr>\n",
       "    <tr>\n",
       "      <th>140299</th>\n",
       "      <td>1471_182</td>\n",
       "      <td>1623.92</td>\n",
       "      <td>2018-07-29</td>\n",
       "      <td>1471</td>\n",
       "    </tr>\n",
       "    <tr>\n",
       "      <th>103480</th>\n",
       "      <td>1348_138</td>\n",
       "      <td>1651.25</td>\n",
       "      <td>2018-10-31</td>\n",
       "      <td>1348</td>\n",
       "    </tr>\n",
       "    <tr>\n",
       "      <th>7063</th>\n",
       "      <td>1024_118</td>\n",
       "      <td>1651.55</td>\n",
       "      <td>2018-11-15</td>\n",
       "      <td>1024</td>\n",
       "    </tr>\n",
       "    <tr>\n",
       "      <th>119156</th>\n",
       "      <td>1402_191</td>\n",
       "      <td>1702.75</td>\n",
       "      <td>2018-10-26</td>\n",
       "      <td>1402</td>\n",
       "    </tr>\n",
       "    <tr>\n",
       "      <th>137493</th>\n",
       "      <td>1461_9</td>\n",
       "      <td>1724.83</td>\n",
       "      <td>2018-11-28</td>\n",
       "      <td>1461</td>\n",
       "    </tr>\n",
       "  </tbody>\n",
       "</table>\n",
       "<p>129798 rows × 4 columns</p>\n",
       "</div>"
      ],
      "text/plain": [
       "              id  mb_used session_date  user_id\n",
       "15944   1055_402     0.03   2018-06-15     1055\n",
       "85722   1291_278     0.04   2018-08-10     1291\n",
       "108198    1370_3     0.06   2018-07-18     1370\n",
       "11027    1038_76     0.07   2018-12-30     1038\n",
       "11399    1040_22     0.07   2018-11-23     1040\n",
       "...          ...      ...          ...      ...\n",
       "140299  1471_182  1623.92   2018-07-29     1471\n",
       "103480  1348_138  1651.25   2018-10-31     1348\n",
       "7063    1024_118  1651.55   2018-11-15     1024\n",
       "119156  1402_191  1702.75   2018-10-26     1402\n",
       "137493    1461_9  1724.83   2018-11-28     1461\n",
       "\n",
       "[129798 rows x 4 columns]"
      ]
     },
     "execution_count": 11,
     "metadata": {},
     "output_type": "execute_result"
    }
   ],
   "source": [
    "internet[internet['mb_used'] > 0].sort_values(by = 'mb_used')"
   ]
  },
  {
   "cell_type": "code",
   "execution_count": 12,
   "metadata": {},
   "outputs": [
    {
     "data": {
      "text/plain": [
       "0.13118155773916304"
      ]
     },
     "execution_count": 12,
     "metadata": {},
     "output_type": "execute_result"
    }
   ],
   "source": [
    "len(internet[internet['mb_used'] == 0]) / len(internet['mb_used'])"
   ]
  },
  {
   "cell_type": "markdown",
   "metadata": {},
   "source": [
    "* просмотрим информацию о длительности звонков; звонках больше минуты; соотношение количества"
   ]
  },
  {
   "cell_type": "code",
   "execution_count": 13,
   "metadata": {},
   "outputs": [
    {
     "data": {
      "text/plain": [
       "0.00     39613\n",
       "4.49       142\n",
       "5.50       142\n",
       "6.15       141\n",
       "6.38       141\n",
       "         ...  \n",
       "27.02        1\n",
       "26.19        1\n",
       "25.34        1\n",
       "27.13        1\n",
       "24.28        1\n",
       "Name: duration, Length: 2871, dtype: int64"
      ]
     },
     "execution_count": 13,
     "metadata": {},
     "output_type": "execute_result"
    }
   ],
   "source": [
    "calls['duration'].value_counts()"
   ]
  },
  {
   "cell_type": "code",
   "execution_count": 14,
   "metadata": {},
   "outputs": [
    {
     "data": {
      "text/html": [
       "<div>\n",
       "<style scoped>\n",
       "    .dataframe tbody tr th:only-of-type {\n",
       "        vertical-align: middle;\n",
       "    }\n",
       "\n",
       "    .dataframe tbody tr th {\n",
       "        vertical-align: top;\n",
       "    }\n",
       "\n",
       "    .dataframe thead th {\n",
       "        text-align: right;\n",
       "    }\n",
       "</style>\n",
       "<table border=\"1\" class=\"dataframe\">\n",
       "  <thead>\n",
       "    <tr style=\"text-align: right;\">\n",
       "      <th></th>\n",
       "      <th>id</th>\n",
       "      <th>call_date</th>\n",
       "      <th>duration</th>\n",
       "      <th>user_id</th>\n",
       "    </tr>\n",
       "  </thead>\n",
       "  <tbody>\n",
       "    <tr>\n",
       "      <th>194301</th>\n",
       "      <td>1477_49</td>\n",
       "      <td>2018-11-25</td>\n",
       "      <td>0.01</td>\n",
       "      <td>1477</td>\n",
       "    </tr>\n",
       "    <tr>\n",
       "      <th>41260</th>\n",
       "      <td>1101_303</td>\n",
       "      <td>2018-11-10</td>\n",
       "      <td>0.01</td>\n",
       "      <td>1101</td>\n",
       "    </tr>\n",
       "    <tr>\n",
       "      <th>34112</th>\n",
       "      <td>1083_457</td>\n",
       "      <td>2018-11-08</td>\n",
       "      <td>0.01</td>\n",
       "      <td>1083</td>\n",
       "    </tr>\n",
       "    <tr>\n",
       "      <th>153576</th>\n",
       "      <td>1381_451</td>\n",
       "      <td>2018-11-28</td>\n",
       "      <td>0.01</td>\n",
       "      <td>1381</td>\n",
       "    </tr>\n",
       "    <tr>\n",
       "      <th>201119</th>\n",
       "      <td>1495_506</td>\n",
       "      <td>2018-11-14</td>\n",
       "      <td>0.01</td>\n",
       "      <td>1495</td>\n",
       "    </tr>\n",
       "    <tr>\n",
       "      <th>...</th>\n",
       "      <td>...</td>\n",
       "      <td>...</td>\n",
       "      <td>...</td>\n",
       "      <td>...</td>\n",
       "    </tr>\n",
       "    <tr>\n",
       "      <th>60889</th>\n",
       "      <td>1153_135</td>\n",
       "      <td>2018-11-16</td>\n",
       "      <td>35.95</td>\n",
       "      <td>1153</td>\n",
       "    </tr>\n",
       "    <tr>\n",
       "      <th>39777</th>\n",
       "      <td>1099_150</td>\n",
       "      <td>2018-08-14</td>\n",
       "      <td>36.12</td>\n",
       "      <td>1099</td>\n",
       "    </tr>\n",
       "    <tr>\n",
       "      <th>5865</th>\n",
       "      <td>1017_61</td>\n",
       "      <td>2018-11-13</td>\n",
       "      <td>36.47</td>\n",
       "      <td>1017</td>\n",
       "    </tr>\n",
       "    <tr>\n",
       "      <th>178737</th>\n",
       "      <td>1446_22</td>\n",
       "      <td>2018-11-07</td>\n",
       "      <td>37.35</td>\n",
       "      <td>1446</td>\n",
       "    </tr>\n",
       "    <tr>\n",
       "      <th>95088</th>\n",
       "      <td>1241_44</td>\n",
       "      <td>2018-09-06</td>\n",
       "      <td>38.00</td>\n",
       "      <td>1241</td>\n",
       "    </tr>\n",
       "  </tbody>\n",
       "</table>\n",
       "<p>162994 rows × 4 columns</p>\n",
       "</div>"
      ],
      "text/plain": [
       "              id  call_date  duration  user_id\n",
       "194301   1477_49 2018-11-25      0.01     1477\n",
       "41260   1101_303 2018-11-10      0.01     1101\n",
       "34112   1083_457 2018-11-08      0.01     1083\n",
       "153576  1381_451 2018-11-28      0.01     1381\n",
       "201119  1495_506 2018-11-14      0.01     1495\n",
       "...          ...        ...       ...      ...\n",
       "60889   1153_135 2018-11-16     35.95     1153\n",
       "39777   1099_150 2018-08-14     36.12     1099\n",
       "5865     1017_61 2018-11-13     36.47     1017\n",
       "178737   1446_22 2018-11-07     37.35     1446\n",
       "95088    1241_44 2018-09-06     38.00     1241\n",
       "\n",
       "[162994 rows x 4 columns]"
      ]
     },
     "execution_count": 14,
     "metadata": {},
     "output_type": "execute_result"
    }
   ],
   "source": [
    "calls[calls['duration'] > 0].sort_values(by = 'duration')"
   ]
  },
  {
   "cell_type": "markdown",
   "metadata": {},
   "source": [
    "*имеется 39613  звонков длительностью 0 минут, 162994 - более 0 минут (сумма 202607)*"
   ]
  },
  {
   "cell_type": "code",
   "execution_count": 15,
   "metadata": {
    "scrolled": true
   },
   "outputs": [
    {
     "data": {
      "text/plain": [
       "0.19551644316336553"
      ]
     },
     "execution_count": 15,
     "metadata": {},
     "output_type": "execute_result"
    }
   ],
   "source": [
    "len(calls[calls['duration'] == 0]) / len(calls['duration'])"
   ]
  },
  {
   "cell_type": "markdown",
   "metadata": {},
   "source": [
    "##### 13% интернет-соединений объемом 0 Мб и 20 % звонков длительностью 0 минут. Телеком-компания округляет длительность звонков и траффика до целого в большую сторону. Нулевые  - не оплачиваютcя клиентом.\n",
    "\"Нулевые\" звонки -  это звонки без ответа, или те, которые были сброшены намеренно. Такие данные можно исключить, но сначала проверим соотношение количества всех вызовов двух тарифов, а также соотношение количества нулевых вызовов с разбивкой по тарифам. "
   ]
  },
  {
   "cell_type": "markdown",
   "metadata": {},
   "source": [
    "*для проверки объединим только файлы с количеством звонков и пользователями*\n",
    "____________________________"
   ]
  },
  {
   "cell_type": "code",
   "execution_count": 16,
   "metadata": {},
   "outputs": [
    {
     "data": {
      "text/html": [
       "<div>\n",
       "<style scoped>\n",
       "    .dataframe tbody tr th:only-of-type {\n",
       "        vertical-align: middle;\n",
       "    }\n",
       "\n",
       "    .dataframe tbody tr th {\n",
       "        vertical-align: top;\n",
       "    }\n",
       "\n",
       "    .dataframe thead th {\n",
       "        text-align: right;\n",
       "    }\n",
       "</style>\n",
       "<table border=\"1\" class=\"dataframe\">\n",
       "  <thead>\n",
       "    <tr style=\"text-align: right;\">\n",
       "      <th></th>\n",
       "      <th>id</th>\n",
       "      <th>call_date</th>\n",
       "      <th>duration</th>\n",
       "      <th>user_id</th>\n",
       "      <th>age</th>\n",
       "      <th>churn_date</th>\n",
       "      <th>city</th>\n",
       "      <th>first_name</th>\n",
       "      <th>last_name</th>\n",
       "      <th>reg_date</th>\n",
       "      <th>tariff</th>\n",
       "    </tr>\n",
       "  </thead>\n",
       "  <tbody>\n",
       "    <tr>\n",
       "      <th>202605</th>\n",
       "      <td>1499_218</td>\n",
       "      <td>2018-10-06</td>\n",
       "      <td>4.27</td>\n",
       "      <td>1499</td>\n",
       "      <td>35</td>\n",
       "      <td>2030-01-01</td>\n",
       "      <td>Пермь</td>\n",
       "      <td>Гектор</td>\n",
       "      <td>Корнилов</td>\n",
       "      <td>2018-09-27</td>\n",
       "      <td>smart</td>\n",
       "    </tr>\n",
       "    <tr>\n",
       "      <th>202606</th>\n",
       "      <td>1499_219</td>\n",
       "      <td>2018-12-14</td>\n",
       "      <td>19.62</td>\n",
       "      <td>1499</td>\n",
       "      <td>35</td>\n",
       "      <td>2030-01-01</td>\n",
       "      <td>Пермь</td>\n",
       "      <td>Гектор</td>\n",
       "      <td>Корнилов</td>\n",
       "      <td>2018-09-27</td>\n",
       "      <td>smart</td>\n",
       "    </tr>\n",
       "    <tr>\n",
       "      <th>202607</th>\n",
       "      <td>NaN</td>\n",
       "      <td>NaT</td>\n",
       "      <td>NaN</td>\n",
       "      <td>1091</td>\n",
       "      <td>36</td>\n",
       "      <td>2030-01-01</td>\n",
       "      <td>Набережные Челны</td>\n",
       "      <td>Вера</td>\n",
       "      <td>Суслова</td>\n",
       "      <td>2018-05-08</td>\n",
       "      <td>ultra</td>\n",
       "    </tr>\n",
       "    <tr>\n",
       "      <th>202608</th>\n",
       "      <td>NaN</td>\n",
       "      <td>NaT</td>\n",
       "      <td>NaN</td>\n",
       "      <td>1106</td>\n",
       "      <td>67</td>\n",
       "      <td>2030-01-01</td>\n",
       "      <td>Калуга</td>\n",
       "      <td>Исаак</td>\n",
       "      <td>Костин</td>\n",
       "      <td>2018-04-26</td>\n",
       "      <td>ultra</td>\n",
       "    </tr>\n",
       "    <tr>\n",
       "      <th>202609</th>\n",
       "      <td>NaN</td>\n",
       "      <td>NaT</td>\n",
       "      <td>NaN</td>\n",
       "      <td>1128</td>\n",
       "      <td>51</td>\n",
       "      <td>2018-12-23</td>\n",
       "      <td>Волжский</td>\n",
       "      <td>Ксения</td>\n",
       "      <td>Агаева</td>\n",
       "      <td>2018-12-15</td>\n",
       "      <td>ultra</td>\n",
       "    </tr>\n",
       "    <tr>\n",
       "      <th>202610</th>\n",
       "      <td>NaN</td>\n",
       "      <td>NaT</td>\n",
       "      <td>NaN</td>\n",
       "      <td>1231</td>\n",
       "      <td>63</td>\n",
       "      <td>2030-01-01</td>\n",
       "      <td>Чебоксары</td>\n",
       "      <td>Касьян</td>\n",
       "      <td>Авдюков</td>\n",
       "      <td>2018-05-23</td>\n",
       "      <td>ultra</td>\n",
       "    </tr>\n",
       "    <tr>\n",
       "      <th>202611</th>\n",
       "      <td>NaN</td>\n",
       "      <td>NaT</td>\n",
       "      <td>NaN</td>\n",
       "      <td>1328</td>\n",
       "      <td>44</td>\n",
       "      <td>2030-01-01</td>\n",
       "      <td>Мурманск</td>\n",
       "      <td>Рауль</td>\n",
       "      <td>Аркадьев</td>\n",
       "      <td>2018-10-16</td>\n",
       "      <td>ultra</td>\n",
       "    </tr>\n",
       "    <tr>\n",
       "      <th>202612</th>\n",
       "      <td>NaN</td>\n",
       "      <td>NaT</td>\n",
       "      <td>NaN</td>\n",
       "      <td>1371</td>\n",
       "      <td>50</td>\n",
       "      <td>2018-12-30</td>\n",
       "      <td>Омск</td>\n",
       "      <td>Ириней</td>\n",
       "      <td>Трофимов</td>\n",
       "      <td>2018-12-25</td>\n",
       "      <td>smart</td>\n",
       "    </tr>\n",
       "    <tr>\n",
       "      <th>202613</th>\n",
       "      <td>NaN</td>\n",
       "      <td>NaT</td>\n",
       "      <td>NaN</td>\n",
       "      <td>1473</td>\n",
       "      <td>18</td>\n",
       "      <td>2030-01-01</td>\n",
       "      <td>Красноярск</td>\n",
       "      <td>Николай</td>\n",
       "      <td>Лебедев</td>\n",
       "      <td>2018-08-05</td>\n",
       "      <td>ultra</td>\n",
       "    </tr>\n",
       "    <tr>\n",
       "      <th>202614</th>\n",
       "      <td>NaN</td>\n",
       "      <td>NaT</td>\n",
       "      <td>NaN</td>\n",
       "      <td>1489</td>\n",
       "      <td>35</td>\n",
       "      <td>2030-01-01</td>\n",
       "      <td>Санкт-Петербург</td>\n",
       "      <td>Павел</td>\n",
       "      <td>Гончаров</td>\n",
       "      <td>2018-08-15</td>\n",
       "      <td>smart</td>\n",
       "    </tr>\n",
       "  </tbody>\n",
       "</table>\n",
       "</div>"
      ],
      "text/plain": [
       "              id  call_date  duration  user_id  age churn_date  \\\n",
       "202605  1499_218 2018-10-06      4.27     1499   35 2030-01-01   \n",
       "202606  1499_219 2018-12-14     19.62     1499   35 2030-01-01   \n",
       "202607       NaN        NaT       NaN     1091   36 2030-01-01   \n",
       "202608       NaN        NaT       NaN     1106   67 2030-01-01   \n",
       "202609       NaN        NaT       NaN     1128   51 2018-12-23   \n",
       "202610       NaN        NaT       NaN     1231   63 2030-01-01   \n",
       "202611       NaN        NaT       NaN     1328   44 2030-01-01   \n",
       "202612       NaN        NaT       NaN     1371   50 2018-12-30   \n",
       "202613       NaN        NaT       NaN     1473   18 2030-01-01   \n",
       "202614       NaN        NaT       NaN     1489   35 2030-01-01   \n",
       "\n",
       "                    city first_name last_name   reg_date tariff  \n",
       "202605             Пермь     Гектор  Корнилов 2018-09-27  smart  \n",
       "202606             Пермь     Гектор  Корнилов 2018-09-27  smart  \n",
       "202607  Набережные Челны       Вера   Суслова 2018-05-08  ultra  \n",
       "202608            Калуга      Исаак    Костин 2018-04-26  ultra  \n",
       "202609          Волжский     Ксения    Агаева 2018-12-15  ultra  \n",
       "202610         Чебоксары     Касьян   Авдюков 2018-05-23  ultra  \n",
       "202611          Мурманск      Рауль  Аркадьев 2018-10-16  ultra  \n",
       "202612              Омск     Ириней  Трофимов 2018-12-25  smart  \n",
       "202613        Красноярск    Николай   Лебедев 2018-08-05  ultra  \n",
       "202614   Санкт-Петербург      Павел  Гончаров 2018-08-15  smart  "
      ]
     },
     "execution_count": 16,
     "metadata": {},
     "output_type": "execute_result"
    }
   ],
   "source": [
    "full_calls = calls.merge(users, on = ['user_id'], how = 'outer')\n",
    "full_calls.tail(10)"
   ]
  },
  {
   "cell_type": "markdown",
   "metadata": {},
   "source": [
    "*Полученная таблица содержит пользователей, которые не совершали звонков. Удалим эти строки*"
   ]
  },
  {
   "cell_type": "code",
   "execution_count": 17,
   "metadata": {},
   "outputs": [
    {
     "data": {
      "text/html": [
       "<div>\n",
       "<style scoped>\n",
       "    .dataframe tbody tr th:only-of-type {\n",
       "        vertical-align: middle;\n",
       "    }\n",
       "\n",
       "    .dataframe tbody tr th {\n",
       "        vertical-align: top;\n",
       "    }\n",
       "\n",
       "    .dataframe thead th {\n",
       "        text-align: right;\n",
       "    }\n",
       "</style>\n",
       "<table border=\"1\" class=\"dataframe\">\n",
       "  <thead>\n",
       "    <tr style=\"text-align: right;\">\n",
       "      <th></th>\n",
       "      <th>id</th>\n",
       "    </tr>\n",
       "    <tr>\n",
       "      <th>tariff</th>\n",
       "      <th></th>\n",
       "    </tr>\n",
       "  </thead>\n",
       "  <tbody>\n",
       "    <tr>\n",
       "      <th>smart</th>\n",
       "      <td>130315</td>\n",
       "    </tr>\n",
       "    <tr>\n",
       "      <th>ultra</th>\n",
       "      <td>72292</td>\n",
       "    </tr>\n",
       "  </tbody>\n",
       "</table>\n",
       "</div>"
      ],
      "text/plain": [
       "            id\n",
       "tariff        \n",
       "smart   130315\n",
       "ultra    72292"
      ]
     },
     "metadata": {},
     "output_type": "display_data"
    },
    {
     "data": {
      "text/html": [
       "<div>\n",
       "<style scoped>\n",
       "    .dataframe tbody tr th:only-of-type {\n",
       "        vertical-align: middle;\n",
       "    }\n",
       "\n",
       "    .dataframe tbody tr th {\n",
       "        vertical-align: top;\n",
       "    }\n",
       "\n",
       "    .dataframe thead th {\n",
       "        text-align: right;\n",
       "    }\n",
       "</style>\n",
       "<table border=\"1\" class=\"dataframe\">\n",
       "  <thead>\n",
       "    <tr style=\"text-align: right;\">\n",
       "      <th></th>\n",
       "      <th>id</th>\n",
       "    </tr>\n",
       "    <tr>\n",
       "      <th>tariff</th>\n",
       "      <th></th>\n",
       "    </tr>\n",
       "  </thead>\n",
       "  <tbody>\n",
       "    <tr>\n",
       "      <th>smart</th>\n",
       "      <td>25669</td>\n",
       "    </tr>\n",
       "    <tr>\n",
       "      <th>ultra</th>\n",
       "      <td>13944</td>\n",
       "    </tr>\n",
       "  </tbody>\n",
       "</table>\n",
       "</div>"
      ],
      "text/plain": [
       "           id\n",
       "tariff       \n",
       "smart   25669\n",
       "ultra   13944"
      ]
     },
     "metadata": {},
     "output_type": "display_data"
    }
   ],
   "source": [
    "full_calls = full_calls.dropna()\n",
    "display(full_calls.groupby(['tariff']).agg({'id':'count'}))\n",
    "display(full_calls[full_calls['duration']==0].groupby(['tariff']).agg({'id':'count'}))"
   ]
  },
  {
   "cell_type": "markdown",
   "metadata": {},
   "source": [
    "*соотношение одинаково (около 1,8), тип тарифа не влияет на нулевые звонки, удалим нулевые значения в таблицах*"
   ]
  },
  {
   "cell_type": "code",
   "execution_count": 18,
   "metadata": {},
   "outputs": [
    {
     "data": {
      "text/html": [
       "<div>\n",
       "<style scoped>\n",
       "    .dataframe tbody tr th:only-of-type {\n",
       "        vertical-align: middle;\n",
       "    }\n",
       "\n",
       "    .dataframe tbody tr th {\n",
       "        vertical-align: top;\n",
       "    }\n",
       "\n",
       "    .dataframe thead th {\n",
       "        text-align: right;\n",
       "    }\n",
       "</style>\n",
       "<table border=\"1\" class=\"dataframe\">\n",
       "  <thead>\n",
       "    <tr style=\"text-align: right;\">\n",
       "      <th></th>\n",
       "      <th>id</th>\n",
       "      <th>call_date</th>\n",
       "      <th>duration</th>\n",
       "      <th>user_id</th>\n",
       "    </tr>\n",
       "  </thead>\n",
       "  <tbody>\n",
       "    <tr>\n",
       "      <th>0</th>\n",
       "      <td>1000_2</td>\n",
       "      <td>2018-06-11</td>\n",
       "      <td>2.85</td>\n",
       "      <td>1000</td>\n",
       "    </tr>\n",
       "    <tr>\n",
       "      <th>1</th>\n",
       "      <td>1000_3</td>\n",
       "      <td>2018-09-21</td>\n",
       "      <td>13.80</td>\n",
       "      <td>1000</td>\n",
       "    </tr>\n",
       "    <tr>\n",
       "      <th>2</th>\n",
       "      <td>1000_4</td>\n",
       "      <td>2018-12-15</td>\n",
       "      <td>5.18</td>\n",
       "      <td>1000</td>\n",
       "    </tr>\n",
       "    <tr>\n",
       "      <th>3</th>\n",
       "      <td>1000_7</td>\n",
       "      <td>2018-08-22</td>\n",
       "      <td>18.31</td>\n",
       "      <td>1000</td>\n",
       "    </tr>\n",
       "    <tr>\n",
       "      <th>4</th>\n",
       "      <td>1000_8</td>\n",
       "      <td>2018-09-15</td>\n",
       "      <td>18.44</td>\n",
       "      <td>1000</td>\n",
       "    </tr>\n",
       "    <tr>\n",
       "      <th>...</th>\n",
       "      <td>...</td>\n",
       "      <td>...</td>\n",
       "      <td>...</td>\n",
       "      <td>...</td>\n",
       "    </tr>\n",
       "    <tr>\n",
       "      <th>162989</th>\n",
       "      <td>1499_215</td>\n",
       "      <td>2018-12-26</td>\n",
       "      <td>0.76</td>\n",
       "      <td>1499</td>\n",
       "    </tr>\n",
       "    <tr>\n",
       "      <th>162990</th>\n",
       "      <td>1499_216</td>\n",
       "      <td>2018-10-18</td>\n",
       "      <td>18.83</td>\n",
       "      <td>1499</td>\n",
       "    </tr>\n",
       "    <tr>\n",
       "      <th>162991</th>\n",
       "      <td>1499_217</td>\n",
       "      <td>2018-11-10</td>\n",
       "      <td>10.81</td>\n",
       "      <td>1499</td>\n",
       "    </tr>\n",
       "    <tr>\n",
       "      <th>162992</th>\n",
       "      <td>1499_218</td>\n",
       "      <td>2018-10-06</td>\n",
       "      <td>4.27</td>\n",
       "      <td>1499</td>\n",
       "    </tr>\n",
       "    <tr>\n",
       "      <th>162993</th>\n",
       "      <td>1499_219</td>\n",
       "      <td>2018-12-14</td>\n",
       "      <td>19.62</td>\n",
       "      <td>1499</td>\n",
       "    </tr>\n",
       "  </tbody>\n",
       "</table>\n",
       "<p>162994 rows × 4 columns</p>\n",
       "</div>"
      ],
      "text/plain": [
       "              id  call_date  duration  user_id\n",
       "0         1000_2 2018-06-11      2.85     1000\n",
       "1         1000_3 2018-09-21     13.80     1000\n",
       "2         1000_4 2018-12-15      5.18     1000\n",
       "3         1000_7 2018-08-22     18.31     1000\n",
       "4         1000_8 2018-09-15     18.44     1000\n",
       "...          ...        ...       ...      ...\n",
       "162989  1499_215 2018-12-26      0.76     1499\n",
       "162990  1499_216 2018-10-18     18.83     1499\n",
       "162991  1499_217 2018-11-10     10.81     1499\n",
       "162992  1499_218 2018-10-06      4.27     1499\n",
       "162993  1499_219 2018-12-14     19.62     1499\n",
       "\n",
       "[162994 rows x 4 columns]"
      ]
     },
     "execution_count": 18,
     "metadata": {},
     "output_type": "execute_result"
    }
   ],
   "source": [
    "calls = calls[calls['duration'] != 0].reset_index(drop = True)\n",
    "calls"
   ]
  },
  {
   "cell_type": "code",
   "execution_count": 19,
   "metadata": {},
   "outputs": [
    {
     "data": {
      "text/html": [
       "<div>\n",
       "<style scoped>\n",
       "    .dataframe tbody tr th:only-of-type {\n",
       "        vertical-align: middle;\n",
       "    }\n",
       "\n",
       "    .dataframe tbody tr th {\n",
       "        vertical-align: top;\n",
       "    }\n",
       "\n",
       "    .dataframe thead th {\n",
       "        text-align: right;\n",
       "    }\n",
       "</style>\n",
       "<table border=\"1\" class=\"dataframe\">\n",
       "  <thead>\n",
       "    <tr style=\"text-align: right;\">\n",
       "      <th></th>\n",
       "      <th>id</th>\n",
       "      <th>mb_used</th>\n",
       "      <th>session_date</th>\n",
       "      <th>user_id</th>\n",
       "    </tr>\n",
       "  </thead>\n",
       "  <tbody>\n",
       "    <tr>\n",
       "      <th>0</th>\n",
       "      <td>1000_0</td>\n",
       "      <td>112.95</td>\n",
       "      <td>2018-11-25</td>\n",
       "      <td>1000</td>\n",
       "    </tr>\n",
       "    <tr>\n",
       "      <th>1</th>\n",
       "      <td>1000_1</td>\n",
       "      <td>1052.81</td>\n",
       "      <td>2018-09-07</td>\n",
       "      <td>1000</td>\n",
       "    </tr>\n",
       "    <tr>\n",
       "      <th>2</th>\n",
       "      <td>1000_2</td>\n",
       "      <td>1197.26</td>\n",
       "      <td>2018-06-25</td>\n",
       "      <td>1000</td>\n",
       "    </tr>\n",
       "    <tr>\n",
       "      <th>3</th>\n",
       "      <td>1000_3</td>\n",
       "      <td>550.27</td>\n",
       "      <td>2018-08-22</td>\n",
       "      <td>1000</td>\n",
       "    </tr>\n",
       "    <tr>\n",
       "      <th>4</th>\n",
       "      <td>1000_4</td>\n",
       "      <td>302.56</td>\n",
       "      <td>2018-09-24</td>\n",
       "      <td>1000</td>\n",
       "    </tr>\n",
       "    <tr>\n",
       "      <th>...</th>\n",
       "      <td>...</td>\n",
       "      <td>...</td>\n",
       "      <td>...</td>\n",
       "      <td>...</td>\n",
       "    </tr>\n",
       "    <tr>\n",
       "      <th>129793</th>\n",
       "      <td>1499_151</td>\n",
       "      <td>752.72</td>\n",
       "      <td>2018-10-11</td>\n",
       "      <td>1499</td>\n",
       "    </tr>\n",
       "    <tr>\n",
       "      <th>129794</th>\n",
       "      <td>1499_152</td>\n",
       "      <td>318.90</td>\n",
       "      <td>2018-10-03</td>\n",
       "      <td>1499</td>\n",
       "    </tr>\n",
       "    <tr>\n",
       "      <th>129795</th>\n",
       "      <td>1499_153</td>\n",
       "      <td>490.13</td>\n",
       "      <td>2018-12-14</td>\n",
       "      <td>1499</td>\n",
       "    </tr>\n",
       "    <tr>\n",
       "      <th>129796</th>\n",
       "      <td>1499_155</td>\n",
       "      <td>1246.32</td>\n",
       "      <td>2018-11-26</td>\n",
       "      <td>1499</td>\n",
       "    </tr>\n",
       "    <tr>\n",
       "      <th>129797</th>\n",
       "      <td>1499_156</td>\n",
       "      <td>544.37</td>\n",
       "      <td>2018-10-26</td>\n",
       "      <td>1499</td>\n",
       "    </tr>\n",
       "  </tbody>\n",
       "</table>\n",
       "<p>129798 rows × 4 columns</p>\n",
       "</div>"
      ],
      "text/plain": [
       "              id  mb_used session_date  user_id\n",
       "0         1000_0   112.95   2018-11-25     1000\n",
       "1         1000_1  1052.81   2018-09-07     1000\n",
       "2         1000_2  1197.26   2018-06-25     1000\n",
       "3         1000_3   550.27   2018-08-22     1000\n",
       "4         1000_4   302.56   2018-09-24     1000\n",
       "...          ...      ...          ...      ...\n",
       "129793  1499_151   752.72   2018-10-11     1499\n",
       "129794  1499_152   318.90   2018-10-03     1499\n",
       "129795  1499_153   490.13   2018-12-14     1499\n",
       "129796  1499_155  1246.32   2018-11-26     1499\n",
       "129797  1499_156   544.37   2018-10-26     1499\n",
       "\n",
       "[129798 rows x 4 columns]"
      ]
     },
     "execution_count": 19,
     "metadata": {},
     "output_type": "execute_result"
    }
   ],
   "source": [
    "internet = internet[internet['mb_used'] != 0].reset_index(drop = True)\n",
    "internet"
   ]
  },
  {
   "cell_type": "markdown",
   "metadata": {},
   "source": [
    "#### добавим в таблицы c информацией о затратах на услуги, столбец `month`, содержащий номер месяца:"
   ]
  },
  {
   "cell_type": "code",
   "execution_count": 20,
   "metadata": {},
   "outputs": [],
   "source": [
    "calls['month'] = pd.DatetimeIndex(calls['call_date']).month\n",
    "internet['month'] = pd.DatetimeIndex(internet['session_date']).month\n",
    "messages['month'] = pd.DatetimeIndex(messages['message_date']).month"
   ]
  },
  {
   "cell_type": "markdown",
   "metadata": {},
   "source": [
    "##### создадим таблицу с количеством минут звонков с группировкой по пользователю и месяцу, предварительно округлим каждый звонок по правилам оператора"
   ]
  },
  {
   "cell_type": "code",
   "execution_count": 21,
   "metadata": {},
   "outputs": [
    {
     "data": {
      "text/html": [
       "<div>\n",
       "<style scoped>\n",
       "    .dataframe tbody tr th:only-of-type {\n",
       "        vertical-align: middle;\n",
       "    }\n",
       "\n",
       "    .dataframe tbody tr th {\n",
       "        vertical-align: top;\n",
       "    }\n",
       "\n",
       "    .dataframe thead th {\n",
       "        text-align: right;\n",
       "    }\n",
       "</style>\n",
       "<table border=\"1\" class=\"dataframe\">\n",
       "  <thead>\n",
       "    <tr style=\"text-align: right;\">\n",
       "      <th></th>\n",
       "      <th>user_id</th>\n",
       "      <th>month</th>\n",
       "      <th>minutes</th>\n",
       "    </tr>\n",
       "  </thead>\n",
       "  <tbody>\n",
       "    <tr>\n",
       "      <th>0</th>\n",
       "      <td>1000</td>\n",
       "      <td>5</td>\n",
       "      <td>159</td>\n",
       "    </tr>\n",
       "    <tr>\n",
       "      <th>1</th>\n",
       "      <td>1000</td>\n",
       "      <td>6</td>\n",
       "      <td>172</td>\n",
       "    </tr>\n",
       "    <tr>\n",
       "      <th>2</th>\n",
       "      <td>1000</td>\n",
       "      <td>7</td>\n",
       "      <td>340</td>\n",
       "    </tr>\n",
       "    <tr>\n",
       "      <th>3</th>\n",
       "      <td>1000</td>\n",
       "      <td>8</td>\n",
       "      <td>408</td>\n",
       "    </tr>\n",
       "    <tr>\n",
       "      <th>4</th>\n",
       "      <td>1000</td>\n",
       "      <td>9</td>\n",
       "      <td>466</td>\n",
       "    </tr>\n",
       "    <tr>\n",
       "      <th>...</th>\n",
       "      <td>...</td>\n",
       "      <td>...</td>\n",
       "      <td>...</td>\n",
       "    </tr>\n",
       "    <tr>\n",
       "      <th>3163</th>\n",
       "      <td>1498</td>\n",
       "      <td>10</td>\n",
       "      <td>247</td>\n",
       "    </tr>\n",
       "    <tr>\n",
       "      <th>3164</th>\n",
       "      <td>1499</td>\n",
       "      <td>9</td>\n",
       "      <td>70</td>\n",
       "    </tr>\n",
       "    <tr>\n",
       "      <th>3165</th>\n",
       "      <td>1499</td>\n",
       "      <td>10</td>\n",
       "      <td>449</td>\n",
       "    </tr>\n",
       "    <tr>\n",
       "      <th>3166</th>\n",
       "      <td>1499</td>\n",
       "      <td>11</td>\n",
       "      <td>612</td>\n",
       "    </tr>\n",
       "    <tr>\n",
       "      <th>3167</th>\n",
       "      <td>1499</td>\n",
       "      <td>12</td>\n",
       "      <td>492</td>\n",
       "    </tr>\n",
       "  </tbody>\n",
       "</table>\n",
       "<p>3168 rows × 3 columns</p>\n",
       "</div>"
      ],
      "text/plain": [
       "      user_id  month  minutes\n",
       "0        1000      5      159\n",
       "1        1000      6      172\n",
       "2        1000      7      340\n",
       "3        1000      8      408\n",
       "4        1000      9      466\n",
       "...       ...    ...      ...\n",
       "3163     1498     10      247\n",
       "3164     1499      9       70\n",
       "3165     1499     10      449\n",
       "3166     1499     11      612\n",
       "3167     1499     12      492\n",
       "\n",
       "[3168 rows x 3 columns]"
      ]
     },
     "execution_count": 21,
     "metadata": {},
     "output_type": "execute_result"
    }
   ],
   "source": [
    "calls['duration'] = np.ceil(calls['duration'])\n",
    "calls['duration'] = calls['duration'].astype(int)\n",
    "user_calls = calls.groupby(['user_id', 'month'], as_index = False).agg({'duration' : 'sum'})\n",
    "user_calls = user_calls.rename(columns={'duration': 'minutes'})\n",
    "user_calls"
   ]
  },
  {
   "cell_type": "markdown",
   "metadata": {},
   "source": [
    "##### количество сообщений с группировкой по пользователю и месяцу"
   ]
  },
  {
   "cell_type": "code",
   "execution_count": 22,
   "metadata": {},
   "outputs": [
    {
     "data": {
      "text/html": [
       "<div>\n",
       "<style scoped>\n",
       "    .dataframe tbody tr th:only-of-type {\n",
       "        vertical-align: middle;\n",
       "    }\n",
       "\n",
       "    .dataframe tbody tr th {\n",
       "        vertical-align: top;\n",
       "    }\n",
       "\n",
       "    .dataframe thead th {\n",
       "        text-align: right;\n",
       "    }\n",
       "</style>\n",
       "<table border=\"1\" class=\"dataframe\">\n",
       "  <thead>\n",
       "    <tr style=\"text-align: right;\">\n",
       "      <th></th>\n",
       "      <th>user_id</th>\n",
       "      <th>month</th>\n",
       "      <th>msg</th>\n",
       "    </tr>\n",
       "  </thead>\n",
       "  <tbody>\n",
       "    <tr>\n",
       "      <th>0</th>\n",
       "      <td>1000</td>\n",
       "      <td>5</td>\n",
       "      <td>22</td>\n",
       "    </tr>\n",
       "    <tr>\n",
       "      <th>1</th>\n",
       "      <td>1000</td>\n",
       "      <td>6</td>\n",
       "      <td>60</td>\n",
       "    </tr>\n",
       "    <tr>\n",
       "      <th>2</th>\n",
       "      <td>1000</td>\n",
       "      <td>7</td>\n",
       "      <td>75</td>\n",
       "    </tr>\n",
       "    <tr>\n",
       "      <th>3</th>\n",
       "      <td>1000</td>\n",
       "      <td>8</td>\n",
       "      <td>81</td>\n",
       "    </tr>\n",
       "    <tr>\n",
       "      <th>4</th>\n",
       "      <td>1000</td>\n",
       "      <td>9</td>\n",
       "      <td>57</td>\n",
       "    </tr>\n",
       "    <tr>\n",
       "      <th>...</th>\n",
       "      <td>...</td>\n",
       "      <td>...</td>\n",
       "      <td>...</td>\n",
       "    </tr>\n",
       "    <tr>\n",
       "      <th>2712</th>\n",
       "      <td>1498</td>\n",
       "      <td>10</td>\n",
       "      <td>42</td>\n",
       "    </tr>\n",
       "    <tr>\n",
       "      <th>2713</th>\n",
       "      <td>1499</td>\n",
       "      <td>9</td>\n",
       "      <td>11</td>\n",
       "    </tr>\n",
       "    <tr>\n",
       "      <th>2714</th>\n",
       "      <td>1499</td>\n",
       "      <td>10</td>\n",
       "      <td>48</td>\n",
       "    </tr>\n",
       "    <tr>\n",
       "      <th>2715</th>\n",
       "      <td>1499</td>\n",
       "      <td>11</td>\n",
       "      <td>59</td>\n",
       "    </tr>\n",
       "    <tr>\n",
       "      <th>2716</th>\n",
       "      <td>1499</td>\n",
       "      <td>12</td>\n",
       "      <td>66</td>\n",
       "    </tr>\n",
       "  </tbody>\n",
       "</table>\n",
       "<p>2717 rows × 3 columns</p>\n",
       "</div>"
      ],
      "text/plain": [
       "      user_id  month  msg\n",
       "0        1000      5   22\n",
       "1        1000      6   60\n",
       "2        1000      7   75\n",
       "3        1000      8   81\n",
       "4        1000      9   57\n",
       "...       ...    ...  ...\n",
       "2712     1498     10   42\n",
       "2713     1499      9   11\n",
       "2714     1499     10   48\n",
       "2715     1499     11   59\n",
       "2716     1499     12   66\n",
       "\n",
       "[2717 rows x 3 columns]"
      ]
     },
     "execution_count": 22,
     "metadata": {},
     "output_type": "execute_result"
    }
   ],
   "source": [
    "user_messages = messages.groupby(['user_id', 'month'], as_index = False).agg({'id':'count'})\n",
    "user_messages = user_messages.rename(columns={'id': 'msg'})\n",
    "user_messages"
   ]
  },
  {
   "cell_type": "markdown",
   "metadata": {},
   "source": [
    "##### количество траффика с группировкой по пользователю и месяцу, предварительно округлим по правилам оператора."
   ]
  },
  {
   "cell_type": "code",
   "execution_count": 23,
   "metadata": {},
   "outputs": [
    {
     "data": {
      "text/html": [
       "<div>\n",
       "<style scoped>\n",
       "    .dataframe tbody tr th:only-of-type {\n",
       "        vertical-align: middle;\n",
       "    }\n",
       "\n",
       "    .dataframe tbody tr th {\n",
       "        vertical-align: top;\n",
       "    }\n",
       "\n",
       "    .dataframe thead th {\n",
       "        text-align: right;\n",
       "    }\n",
       "</style>\n",
       "<table border=\"1\" class=\"dataframe\">\n",
       "  <thead>\n",
       "    <tr style=\"text-align: right;\">\n",
       "      <th></th>\n",
       "      <th>user_id</th>\n",
       "      <th>month</th>\n",
       "      <th>mb_used</th>\n",
       "    </tr>\n",
       "  </thead>\n",
       "  <tbody>\n",
       "    <tr>\n",
       "      <th>0</th>\n",
       "      <td>1000</td>\n",
       "      <td>5</td>\n",
       "      <td>2256</td>\n",
       "    </tr>\n",
       "    <tr>\n",
       "      <th>1</th>\n",
       "      <td>1000</td>\n",
       "      <td>6</td>\n",
       "      <td>23257</td>\n",
       "    </tr>\n",
       "    <tr>\n",
       "      <th>2</th>\n",
       "      <td>1000</td>\n",
       "      <td>7</td>\n",
       "      <td>14016</td>\n",
       "    </tr>\n",
       "    <tr>\n",
       "      <th>3</th>\n",
       "      <td>1000</td>\n",
       "      <td>8</td>\n",
       "      <td>14070</td>\n",
       "    </tr>\n",
       "    <tr>\n",
       "      <th>4</th>\n",
       "      <td>1000</td>\n",
       "      <td>9</td>\n",
       "      <td>14581</td>\n",
       "    </tr>\n",
       "    <tr>\n",
       "      <th>...</th>\n",
       "      <td>...</td>\n",
       "      <td>...</td>\n",
       "      <td>...</td>\n",
       "    </tr>\n",
       "    <tr>\n",
       "      <th>3196</th>\n",
       "      <td>1498</td>\n",
       "      <td>10</td>\n",
       "      <td>20604</td>\n",
       "    </tr>\n",
       "    <tr>\n",
       "      <th>3197</th>\n",
       "      <td>1499</td>\n",
       "      <td>9</td>\n",
       "      <td>1848</td>\n",
       "    </tr>\n",
       "    <tr>\n",
       "      <th>3198</th>\n",
       "      <td>1499</td>\n",
       "      <td>10</td>\n",
       "      <td>17809</td>\n",
       "    </tr>\n",
       "    <tr>\n",
       "      <th>3199</th>\n",
       "      <td>1499</td>\n",
       "      <td>11</td>\n",
       "      <td>17984</td>\n",
       "    </tr>\n",
       "    <tr>\n",
       "      <th>3200</th>\n",
       "      <td>1499</td>\n",
       "      <td>12</td>\n",
       "      <td>13077</td>\n",
       "    </tr>\n",
       "  </tbody>\n",
       "</table>\n",
       "<p>3201 rows × 3 columns</p>\n",
       "</div>"
      ],
      "text/plain": [
       "      user_id  month  mb_used\n",
       "0        1000      5     2256\n",
       "1        1000      6    23257\n",
       "2        1000      7    14016\n",
       "3        1000      8    14070\n",
       "4        1000      9    14581\n",
       "...       ...    ...      ...\n",
       "3196     1498     10    20604\n",
       "3197     1499      9     1848\n",
       "3198     1499     10    17809\n",
       "3199     1499     11    17984\n",
       "3200     1499     12    13077\n",
       "\n",
       "[3201 rows x 3 columns]"
      ]
     },
     "execution_count": 23,
     "metadata": {},
     "output_type": "execute_result"
    }
   ],
   "source": [
    "internet['mb_used'] = np.ceil(internet['mb_used'])\n",
    "internet['mb_used'] = internet['mb_used'].astype(int)\n",
    "user_internet = internet.groupby(['user_id', 'month'], as_index = False).agg({'mb_used' : 'sum'})\n",
    "user_internet "
   ]
  },
  {
   "cell_type": "code",
   "execution_count": 24,
   "metadata": {},
   "outputs": [],
   "source": [
    "users_short = pd.DataFrame(data = users, columns = ['user_id', 'age', 'churn_date', 'city', 'reg_date', 'tariff'])\n",
    "#создаю укороченный датафрейм с использованием имен столбцов `(users.columns),\n",
    "#возраст оставила для возможности оценить затраты исходя из возраста"
   ]
  },
  {
   "cell_type": "code",
   "execution_count": 25,
   "metadata": {},
   "outputs": [
    {
     "data": {
      "text/html": [
       "<div>\n",
       "<style scoped>\n",
       "    .dataframe tbody tr th:only-of-type {\n",
       "        vertical-align: middle;\n",
       "    }\n",
       "\n",
       "    .dataframe tbody tr th {\n",
       "        vertical-align: top;\n",
       "    }\n",
       "\n",
       "    .dataframe thead th {\n",
       "        text-align: right;\n",
       "    }\n",
       "</style>\n",
       "<table border=\"1\" class=\"dataframe\">\n",
       "  <thead>\n",
       "    <tr style=\"text-align: right;\">\n",
       "      <th></th>\n",
       "      <th>user_id</th>\n",
       "      <th>month</th>\n",
       "      <th>mb_used</th>\n",
       "      <th>minutes</th>\n",
       "      <th>msg</th>\n",
       "      <th>age</th>\n",
       "      <th>churn_date</th>\n",
       "      <th>city</th>\n",
       "      <th>reg_date</th>\n",
       "      <th>tariff</th>\n",
       "    </tr>\n",
       "  </thead>\n",
       "  <tbody>\n",
       "    <tr>\n",
       "      <th>0</th>\n",
       "      <td>1000</td>\n",
       "      <td>5.0</td>\n",
       "      <td>2256.0</td>\n",
       "      <td>159.0</td>\n",
       "      <td>22.0</td>\n",
       "      <td>52</td>\n",
       "      <td>2030-01-01</td>\n",
       "      <td>Краснодар</td>\n",
       "      <td>2018-05-25</td>\n",
       "      <td>ultra</td>\n",
       "    </tr>\n",
       "    <tr>\n",
       "      <th>1</th>\n",
       "      <td>1000</td>\n",
       "      <td>6.0</td>\n",
       "      <td>23257.0</td>\n",
       "      <td>172.0</td>\n",
       "      <td>60.0</td>\n",
       "      <td>52</td>\n",
       "      <td>2030-01-01</td>\n",
       "      <td>Краснодар</td>\n",
       "      <td>2018-05-25</td>\n",
       "      <td>ultra</td>\n",
       "    </tr>\n",
       "    <tr>\n",
       "      <th>2</th>\n",
       "      <td>1000</td>\n",
       "      <td>7.0</td>\n",
       "      <td>14016.0</td>\n",
       "      <td>340.0</td>\n",
       "      <td>75.0</td>\n",
       "      <td>52</td>\n",
       "      <td>2030-01-01</td>\n",
       "      <td>Краснодар</td>\n",
       "      <td>2018-05-25</td>\n",
       "      <td>ultra</td>\n",
       "    </tr>\n",
       "    <tr>\n",
       "      <th>3</th>\n",
       "      <td>1000</td>\n",
       "      <td>8.0</td>\n",
       "      <td>14070.0</td>\n",
       "      <td>408.0</td>\n",
       "      <td>81.0</td>\n",
       "      <td>52</td>\n",
       "      <td>2030-01-01</td>\n",
       "      <td>Краснодар</td>\n",
       "      <td>2018-05-25</td>\n",
       "      <td>ultra</td>\n",
       "    </tr>\n",
       "    <tr>\n",
       "      <th>4</th>\n",
       "      <td>1000</td>\n",
       "      <td>9.0</td>\n",
       "      <td>14581.0</td>\n",
       "      <td>466.0</td>\n",
       "      <td>57.0</td>\n",
       "      <td>52</td>\n",
       "      <td>2030-01-01</td>\n",
       "      <td>Краснодар</td>\n",
       "      <td>2018-05-25</td>\n",
       "      <td>ultra</td>\n",
       "    </tr>\n",
       "    <tr>\n",
       "      <th>...</th>\n",
       "      <td>...</td>\n",
       "      <td>...</td>\n",
       "      <td>...</td>\n",
       "      <td>...</td>\n",
       "      <td>...</td>\n",
       "      <td>...</td>\n",
       "      <td>...</td>\n",
       "      <td>...</td>\n",
       "      <td>...</td>\n",
       "      <td>...</td>\n",
       "    </tr>\n",
       "    <tr>\n",
       "      <th>3211</th>\n",
       "      <td>1273</td>\n",
       "      <td>10.0</td>\n",
       "      <td>NaN</td>\n",
       "      <td>315.0</td>\n",
       "      <td>35.0</td>\n",
       "      <td>46</td>\n",
       "      <td>2030-01-01</td>\n",
       "      <td>Курган</td>\n",
       "      <td>2018-05-15</td>\n",
       "      <td>ultra</td>\n",
       "    </tr>\n",
       "    <tr>\n",
       "      <th>3212</th>\n",
       "      <td>1273</td>\n",
       "      <td>11.0</td>\n",
       "      <td>NaN</td>\n",
       "      <td>272.0</td>\n",
       "      <td>29.0</td>\n",
       "      <td>46</td>\n",
       "      <td>2030-01-01</td>\n",
       "      <td>Курган</td>\n",
       "      <td>2018-05-15</td>\n",
       "      <td>ultra</td>\n",
       "    </tr>\n",
       "    <tr>\n",
       "      <th>3213</th>\n",
       "      <td>1273</td>\n",
       "      <td>12.0</td>\n",
       "      <td>NaN</td>\n",
       "      <td>260.0</td>\n",
       "      <td>39.0</td>\n",
       "      <td>46</td>\n",
       "      <td>2030-01-01</td>\n",
       "      <td>Курган</td>\n",
       "      <td>2018-05-15</td>\n",
       "      <td>ultra</td>\n",
       "    </tr>\n",
       "    <tr>\n",
       "      <th>3214</th>\n",
       "      <td>1128</td>\n",
       "      <td>NaN</td>\n",
       "      <td>NaN</td>\n",
       "      <td>NaN</td>\n",
       "      <td>NaN</td>\n",
       "      <td>51</td>\n",
       "      <td>2018-12-23</td>\n",
       "      <td>Волжский</td>\n",
       "      <td>2018-12-15</td>\n",
       "      <td>ultra</td>\n",
       "    </tr>\n",
       "    <tr>\n",
       "      <th>3215</th>\n",
       "      <td>1371</td>\n",
       "      <td>NaN</td>\n",
       "      <td>NaN</td>\n",
       "      <td>NaN</td>\n",
       "      <td>NaN</td>\n",
       "      <td>50</td>\n",
       "      <td>2018-12-30</td>\n",
       "      <td>Омск</td>\n",
       "      <td>2018-12-25</td>\n",
       "      <td>smart</td>\n",
       "    </tr>\n",
       "  </tbody>\n",
       "</table>\n",
       "<p>3216 rows × 10 columns</p>\n",
       "</div>"
      ],
      "text/plain": [
       "      user_id  month  mb_used  minutes   msg  age churn_date       city  \\\n",
       "0        1000    5.0   2256.0    159.0  22.0   52 2030-01-01  Краснодар   \n",
       "1        1000    6.0  23257.0    172.0  60.0   52 2030-01-01  Краснодар   \n",
       "2        1000    7.0  14016.0    340.0  75.0   52 2030-01-01  Краснодар   \n",
       "3        1000    8.0  14070.0    408.0  81.0   52 2030-01-01  Краснодар   \n",
       "4        1000    9.0  14581.0    466.0  57.0   52 2030-01-01  Краснодар   \n",
       "...       ...    ...      ...      ...   ...  ...        ...        ...   \n",
       "3211     1273   10.0      NaN    315.0  35.0   46 2030-01-01     Курган   \n",
       "3212     1273   11.0      NaN    272.0  29.0   46 2030-01-01     Курган   \n",
       "3213     1273   12.0      NaN    260.0  39.0   46 2030-01-01     Курган   \n",
       "3214     1128    NaN      NaN      NaN   NaN   51 2018-12-23   Волжский   \n",
       "3215     1371    NaN      NaN      NaN   NaN   50 2018-12-30       Омск   \n",
       "\n",
       "       reg_date tariff  \n",
       "0    2018-05-25  ultra  \n",
       "1    2018-05-25  ultra  \n",
       "2    2018-05-25  ultra  \n",
       "3    2018-05-25  ultra  \n",
       "4    2018-05-25  ultra  \n",
       "...         ...    ...  \n",
       "3211 2018-05-15  ultra  \n",
       "3212 2018-05-15  ultra  \n",
       "3213 2018-05-15  ultra  \n",
       "3214 2018-12-15  ultra  \n",
       "3215 2018-12-25  smart  \n",
       "\n",
       "[3216 rows x 10 columns]"
      ]
     },
     "execution_count": 25,
     "metadata": {},
     "output_type": "execute_result"
    }
   ],
   "source": [
    "data = (user_internet.merge(user_calls, on = ['user_id', 'month'], how = 'outer')\n",
    "    .merge(user_messages, on = ['user_id', 'month'], how = 'outer')\n",
    "    .merge(users_short, on = ['user_id'], how = 'outer'))\n",
    "data"
   ]
  },
  {
   "cell_type": "markdown",
   "metadata": {},
   "source": [
    "Две нижние строки таблицы удалим - это пользователи, которые прекратили пользоваться тарифом, не пользовавшиеся услугами оператора вообще."
   ]
  },
  {
   "cell_type": "code",
   "execution_count": 26,
   "metadata": {},
   "outputs": [
    {
     "data": {
      "text/html": [
       "<div>\n",
       "<style scoped>\n",
       "    .dataframe tbody tr th:only-of-type {\n",
       "        vertical-align: middle;\n",
       "    }\n",
       "\n",
       "    .dataframe tbody tr th {\n",
       "        vertical-align: top;\n",
       "    }\n",
       "\n",
       "    .dataframe thead th {\n",
       "        text-align: right;\n",
       "    }\n",
       "</style>\n",
       "<table border=\"1\" class=\"dataframe\">\n",
       "  <thead>\n",
       "    <tr style=\"text-align: right;\">\n",
       "      <th></th>\n",
       "      <th>user_id</th>\n",
       "      <th>month</th>\n",
       "      <th>mb_used</th>\n",
       "      <th>minutes</th>\n",
       "      <th>msg</th>\n",
       "      <th>age</th>\n",
       "      <th>churn_date</th>\n",
       "      <th>city</th>\n",
       "      <th>reg_date</th>\n",
       "      <th>tariff</th>\n",
       "    </tr>\n",
       "  </thead>\n",
       "  <tbody>\n",
       "    <tr>\n",
       "      <th>0</th>\n",
       "      <td>1000</td>\n",
       "      <td>5.0</td>\n",
       "      <td>2256.0</td>\n",
       "      <td>159.0</td>\n",
       "      <td>22.0</td>\n",
       "      <td>52</td>\n",
       "      <td>2030-01-01</td>\n",
       "      <td>Краснодар</td>\n",
       "      <td>2018-05-25</td>\n",
       "      <td>ultra</td>\n",
       "    </tr>\n",
       "    <tr>\n",
       "      <th>1</th>\n",
       "      <td>1000</td>\n",
       "      <td>6.0</td>\n",
       "      <td>23257.0</td>\n",
       "      <td>172.0</td>\n",
       "      <td>60.0</td>\n",
       "      <td>52</td>\n",
       "      <td>2030-01-01</td>\n",
       "      <td>Краснодар</td>\n",
       "      <td>2018-05-25</td>\n",
       "      <td>ultra</td>\n",
       "    </tr>\n",
       "    <tr>\n",
       "      <th>2</th>\n",
       "      <td>1000</td>\n",
       "      <td>7.0</td>\n",
       "      <td>14016.0</td>\n",
       "      <td>340.0</td>\n",
       "      <td>75.0</td>\n",
       "      <td>52</td>\n",
       "      <td>2030-01-01</td>\n",
       "      <td>Краснодар</td>\n",
       "      <td>2018-05-25</td>\n",
       "      <td>ultra</td>\n",
       "    </tr>\n",
       "    <tr>\n",
       "      <th>3</th>\n",
       "      <td>1000</td>\n",
       "      <td>8.0</td>\n",
       "      <td>14070.0</td>\n",
       "      <td>408.0</td>\n",
       "      <td>81.0</td>\n",
       "      <td>52</td>\n",
       "      <td>2030-01-01</td>\n",
       "      <td>Краснодар</td>\n",
       "      <td>2018-05-25</td>\n",
       "      <td>ultra</td>\n",
       "    </tr>\n",
       "    <tr>\n",
       "      <th>4</th>\n",
       "      <td>1000</td>\n",
       "      <td>9.0</td>\n",
       "      <td>14581.0</td>\n",
       "      <td>466.0</td>\n",
       "      <td>57.0</td>\n",
       "      <td>52</td>\n",
       "      <td>2030-01-01</td>\n",
       "      <td>Краснодар</td>\n",
       "      <td>2018-05-25</td>\n",
       "      <td>ultra</td>\n",
       "    </tr>\n",
       "    <tr>\n",
       "      <th>...</th>\n",
       "      <td>...</td>\n",
       "      <td>...</td>\n",
       "      <td>...</td>\n",
       "      <td>...</td>\n",
       "      <td>...</td>\n",
       "      <td>...</td>\n",
       "      <td>...</td>\n",
       "      <td>...</td>\n",
       "      <td>...</td>\n",
       "      <td>...</td>\n",
       "    </tr>\n",
       "    <tr>\n",
       "      <th>3209</th>\n",
       "      <td>1273</td>\n",
       "      <td>8.0</td>\n",
       "      <td>0.0</td>\n",
       "      <td>253.0</td>\n",
       "      <td>41.0</td>\n",
       "      <td>46</td>\n",
       "      <td>2030-01-01</td>\n",
       "      <td>Курган</td>\n",
       "      <td>2018-05-15</td>\n",
       "      <td>ultra</td>\n",
       "    </tr>\n",
       "    <tr>\n",
       "      <th>3210</th>\n",
       "      <td>1273</td>\n",
       "      <td>9.0</td>\n",
       "      <td>0.0</td>\n",
       "      <td>223.0</td>\n",
       "      <td>32.0</td>\n",
       "      <td>46</td>\n",
       "      <td>2030-01-01</td>\n",
       "      <td>Курган</td>\n",
       "      <td>2018-05-15</td>\n",
       "      <td>ultra</td>\n",
       "    </tr>\n",
       "    <tr>\n",
       "      <th>3211</th>\n",
       "      <td>1273</td>\n",
       "      <td>10.0</td>\n",
       "      <td>0.0</td>\n",
       "      <td>315.0</td>\n",
       "      <td>35.0</td>\n",
       "      <td>46</td>\n",
       "      <td>2030-01-01</td>\n",
       "      <td>Курган</td>\n",
       "      <td>2018-05-15</td>\n",
       "      <td>ultra</td>\n",
       "    </tr>\n",
       "    <tr>\n",
       "      <th>3212</th>\n",
       "      <td>1273</td>\n",
       "      <td>11.0</td>\n",
       "      <td>0.0</td>\n",
       "      <td>272.0</td>\n",
       "      <td>29.0</td>\n",
       "      <td>46</td>\n",
       "      <td>2030-01-01</td>\n",
       "      <td>Курган</td>\n",
       "      <td>2018-05-15</td>\n",
       "      <td>ultra</td>\n",
       "    </tr>\n",
       "    <tr>\n",
       "      <th>3213</th>\n",
       "      <td>1273</td>\n",
       "      <td>12.0</td>\n",
       "      <td>0.0</td>\n",
       "      <td>260.0</td>\n",
       "      <td>39.0</td>\n",
       "      <td>46</td>\n",
       "      <td>2030-01-01</td>\n",
       "      <td>Курган</td>\n",
       "      <td>2018-05-15</td>\n",
       "      <td>ultra</td>\n",
       "    </tr>\n",
       "  </tbody>\n",
       "</table>\n",
       "<p>3214 rows × 10 columns</p>\n",
       "</div>"
      ],
      "text/plain": [
       "      user_id  month  mb_used  minutes   msg  age churn_date       city  \\\n",
       "0        1000    5.0   2256.0    159.0  22.0   52 2030-01-01  Краснодар   \n",
       "1        1000    6.0  23257.0    172.0  60.0   52 2030-01-01  Краснодар   \n",
       "2        1000    7.0  14016.0    340.0  75.0   52 2030-01-01  Краснодар   \n",
       "3        1000    8.0  14070.0    408.0  81.0   52 2030-01-01  Краснодар   \n",
       "4        1000    9.0  14581.0    466.0  57.0   52 2030-01-01  Краснодар   \n",
       "...       ...    ...      ...      ...   ...  ...        ...        ...   \n",
       "3209     1273    8.0      0.0    253.0  41.0   46 2030-01-01     Курган   \n",
       "3210     1273    9.0      0.0    223.0  32.0   46 2030-01-01     Курган   \n",
       "3211     1273   10.0      0.0    315.0  35.0   46 2030-01-01     Курган   \n",
       "3212     1273   11.0      0.0    272.0  29.0   46 2030-01-01     Курган   \n",
       "3213     1273   12.0      0.0    260.0  39.0   46 2030-01-01     Курган   \n",
       "\n",
       "       reg_date tariff  \n",
       "0    2018-05-25  ultra  \n",
       "1    2018-05-25  ultra  \n",
       "2    2018-05-25  ultra  \n",
       "3    2018-05-25  ultra  \n",
       "4    2018-05-25  ultra  \n",
       "...         ...    ...  \n",
       "3209 2018-05-15  ultra  \n",
       "3210 2018-05-15  ultra  \n",
       "3211 2018-05-15  ultra  \n",
       "3212 2018-05-15  ultra  \n",
       "3213 2018-05-15  ultra  \n",
       "\n",
       "[3214 rows x 10 columns]"
      ]
     },
     "execution_count": 26,
     "metadata": {},
     "output_type": "execute_result"
    }
   ],
   "source": [
    "data = data.dropna(subset=['month'])\n",
    "data = data.fillna(0)\n",
    "data"
   ]
  },
  {
   "cell_type": "code",
   "execution_count": 27,
   "metadata": {},
   "outputs": [],
   "source": [
    "def month_payment_calculation(row):\n",
    "    minutes = row['minutes']\n",
    "    msg = row['msg']\n",
    "    mb_used = row['mb_used']\n",
    "    tariff = row['tariff']\n",
    "     \n",
    "    minutes_lim = tariffs.loc[tariff, 'minutes_included']\n",
    "    msg_lim = tariffs.loc[tariff, 'messages_included']\n",
    "    internet_lim = tariffs.loc[tariff, 'mb_per_month_included']\n",
    "    \n",
    "    call_overlimit = max(minutes - minutes_lim, 0)\n",
    "    call_overpay = call_overlimit * tariffs.loc[tariff, 'rub_per_minute']\n",
    "    \n",
    "    msg_overlimit = max(msg - msg_lim, 0)\n",
    "    msg_overpay = msg_overlimit * tariffs.loc[tariff, 'rub_per_message']\n",
    "    \n",
    "    internet_overlimit = max(mb_used - internet_lim, 0) / 1024\n",
    "    internet_overlimit = np.ceil(internet_overlimit)\n",
    "    internet_overpay =  internet_overlimit * tariffs.loc[tariff, 'rub_per_gb']\n",
    "    \n",
    "    check_sum = tariffs.loc[tariff, 'rub_monthly_fee'] + call_overpay + msg_overpay + internet_overpay\n",
    "    \n",
    "    return check_sum "
   ]
  },
  {
   "cell_type": "code",
   "execution_count": 28,
   "metadata": {},
   "outputs": [
    {
     "name": "stdout",
     "output_type": "stream",
     "text": [
      "<class 'pandas.core.frame.DataFrame'>\n",
      "Int64Index: 3214 entries, 0 to 3213\n",
      "Data columns (total 11 columns):\n",
      " #   Column      Non-Null Count  Dtype         \n",
      "---  ------      --------------  -----         \n",
      " 0   user_id     3214 non-null   int64         \n",
      " 1   month       3214 non-null   float64       \n",
      " 2   mb_used     3214 non-null   float64       \n",
      " 3   minutes     3214 non-null   float64       \n",
      " 4   msg         3214 non-null   float64       \n",
      " 5   age         3214 non-null   int64         \n",
      " 6   churn_date  3214 non-null   datetime64[ns]\n",
      " 7   city        3214 non-null   object        \n",
      " 8   reg_date    3214 non-null   datetime64[ns]\n",
      " 9   tariff      3214 non-null   object        \n",
      " 10  total_sum   3214 non-null   float64       \n",
      "dtypes: datetime64[ns](2), float64(5), int64(2), object(2)\n",
      "memory usage: 301.3+ KB\n"
     ]
    },
    {
     "data": {
      "text/plain": [
       "None"
      ]
     },
     "metadata": {},
     "output_type": "display_data"
    },
    {
     "data": {
      "text/html": [
       "<div>\n",
       "<style scoped>\n",
       "    .dataframe tbody tr th:only-of-type {\n",
       "        vertical-align: middle;\n",
       "    }\n",
       "\n",
       "    .dataframe tbody tr th {\n",
       "        vertical-align: top;\n",
       "    }\n",
       "\n",
       "    .dataframe thead th {\n",
       "        text-align: right;\n",
       "    }\n",
       "</style>\n",
       "<table border=\"1\" class=\"dataframe\">\n",
       "  <thead>\n",
       "    <tr style=\"text-align: right;\">\n",
       "      <th></th>\n",
       "      <th>user_id</th>\n",
       "      <th>month</th>\n",
       "      <th>mb_used</th>\n",
       "      <th>minutes</th>\n",
       "      <th>msg</th>\n",
       "      <th>age</th>\n",
       "      <th>churn_date</th>\n",
       "      <th>city</th>\n",
       "      <th>reg_date</th>\n",
       "      <th>tariff</th>\n",
       "      <th>total_sum</th>\n",
       "    </tr>\n",
       "  </thead>\n",
       "  <tbody>\n",
       "    <tr>\n",
       "      <th>633</th>\n",
       "      <td>1099</td>\n",
       "      <td>12.0</td>\n",
       "      <td>16763.0</td>\n",
       "      <td>640.0</td>\n",
       "      <td>46.0</td>\n",
       "      <td>67</td>\n",
       "      <td>2030-01-01</td>\n",
       "      <td>Тольятти</td>\n",
       "      <td>2018-03-16</td>\n",
       "      <td>ultra</td>\n",
       "      <td>1950.0</td>\n",
       "    </tr>\n",
       "    <tr>\n",
       "      <th>871</th>\n",
       "      <td>1137</td>\n",
       "      <td>12.0</td>\n",
       "      <td>16197.0</td>\n",
       "      <td>705.0</td>\n",
       "      <td>19.0</td>\n",
       "      <td>64</td>\n",
       "      <td>2030-01-01</td>\n",
       "      <td>Кемерово</td>\n",
       "      <td>2018-12-02</td>\n",
       "      <td>smart</td>\n",
       "      <td>1365.0</td>\n",
       "    </tr>\n",
       "    <tr>\n",
       "      <th>207</th>\n",
       "      <td>1032</td>\n",
       "      <td>8.0</td>\n",
       "      <td>24848.0</td>\n",
       "      <td>446.0</td>\n",
       "      <td>47.0</td>\n",
       "      <td>31</td>\n",
       "      <td>2030-01-01</td>\n",
       "      <td>Ульяновск</td>\n",
       "      <td>2018-01-04</td>\n",
       "      <td>smart</td>\n",
       "      <td>2550.0</td>\n",
       "    </tr>\n",
       "    <tr>\n",
       "      <th>387</th>\n",
       "      <td>1061</td>\n",
       "      <td>10.0</td>\n",
       "      <td>16624.0</td>\n",
       "      <td>588.0</td>\n",
       "      <td>9.0</td>\n",
       "      <td>41</td>\n",
       "      <td>2030-01-01</td>\n",
       "      <td>Санкт-Петербург</td>\n",
       "      <td>2018-07-15</td>\n",
       "      <td>smart</td>\n",
       "      <td>1214.0</td>\n",
       "    </tr>\n",
       "    <tr>\n",
       "      <th>1294</th>\n",
       "      <td>1202</td>\n",
       "      <td>12.0</td>\n",
       "      <td>15502.0</td>\n",
       "      <td>287.0</td>\n",
       "      <td>49.0</td>\n",
       "      <td>22</td>\n",
       "      <td>2030-01-01</td>\n",
       "      <td>Владивосток</td>\n",
       "      <td>2018-09-20</td>\n",
       "      <td>smart</td>\n",
       "      <td>750.0</td>\n",
       "    </tr>\n",
       "  </tbody>\n",
       "</table>\n",
       "</div>"
      ],
      "text/plain": [
       "      user_id  month  mb_used  minutes   msg  age churn_date             city  \\\n",
       "633      1099   12.0  16763.0    640.0  46.0   67 2030-01-01         Тольятти   \n",
       "871      1137   12.0  16197.0    705.0  19.0   64 2030-01-01         Кемерово   \n",
       "207      1032    8.0  24848.0    446.0  47.0   31 2030-01-01        Ульяновск   \n",
       "387      1061   10.0  16624.0    588.0   9.0   41 2030-01-01  Санкт-Петербург   \n",
       "1294     1202   12.0  15502.0    287.0  49.0   22 2030-01-01      Владивосток   \n",
       "\n",
       "       reg_date tariff  total_sum  \n",
       "633  2018-03-16  ultra     1950.0  \n",
       "871  2018-12-02  smart     1365.0  \n",
       "207  2018-01-04  smart     2550.0  \n",
       "387  2018-07-15  smart     1214.0  \n",
       "1294 2018-09-20  smart      750.0  "
      ]
     },
     "metadata": {},
     "output_type": "display_data"
    }
   ],
   "source": [
    "data['total_sum'] = data.apply(month_payment_calculation, axis = 1)\n",
    "display(data.info(),data.sample(5))"
   ]
  },
  {
   "cell_type": "markdown",
   "metadata": {},
   "source": [
    "### Вывод"
   ]
  },
  {
   "cell_type": "markdown",
   "metadata": {},
   "source": [
    "#### В результате группировки, объединения и обработки файлов получена таблица из 3214 строк, включающая сведения об активных пользователях. Для каждого пользователя определены сведения по использованию услуг тарифа за каждый месяц и посчитаны затраты пользователей (ежемесячная выручка оператора)."
   ]
  },
  {
   "cell_type": "markdown",
   "metadata": {},
   "source": [
    "### [Шаг 3. Анализ данных](#content) <a id=\"step_3\"></a>"
   ]
  },
  {
   "cell_type": "markdown",
   "metadata": {},
   "source": [
    "Определим основные характеристики данных пользователей двух тарифов."
   ]
  },
  {
   "cell_type": "code",
   "execution_count": 55,
   "metadata": {},
   "outputs": [
    {
     "name": "stdout",
     "output_type": "stream",
     "text": [
      "Количество пользователей тарифа \"Ультра\": 149\n",
      "Количество пользователей тарифа \"Смарт\": 351\n",
      "\n",
      "Выручка с пользователей тарифа \"Ультра\": 2040000\n",
      "Выручка с пользователей тарифа \"Смарт\": 2885751\n"
     ]
    }
   ],
   "source": [
    "print('Количество пользователей тарифа \"Ультра\":', len(users.query('tariff == \"ultra\"')))\n",
    "print('Количество пользователей тарифа \"Смарт\":', len(users.query('tariff == \"smart\"')))\n",
    "print()\n",
    "print('Выручка с пользователей тарифа \"Ультра\":', int(data.query('tariff == \"ultra\"')['total_sum'].sum()))\n",
    "print('Выручка с пользователей тарифа \"Смарт\":', int(data.query('tariff == \"smart\"')['total_sum'].sum()))"
   ]
  },
  {
   "cell_type": "code",
   "execution_count": 30,
   "metadata": {},
   "outputs": [
    {
     "data": {
      "text/html": [
       "<div>\n",
       "<style scoped>\n",
       "    .dataframe tbody tr th:only-of-type {\n",
       "        vertical-align: middle;\n",
       "    }\n",
       "\n",
       "    .dataframe tbody tr th {\n",
       "        vertical-align: top;\n",
       "    }\n",
       "\n",
       "    .dataframe thead th {\n",
       "        text-align: right;\n",
       "    }\n",
       "</style>\n",
       "<table border=\"1\" class=\"dataframe\">\n",
       "  <thead>\n",
       "    <tr style=\"text-align: right;\">\n",
       "      <th></th>\n",
       "      <th>user_id</th>\n",
       "      <th>month</th>\n",
       "      <th>mb_used</th>\n",
       "      <th>minutes</th>\n",
       "      <th>msg</th>\n",
       "      <th>age</th>\n",
       "      <th>total_sum</th>\n",
       "    </tr>\n",
       "  </thead>\n",
       "  <tbody>\n",
       "    <tr>\n",
       "      <th>count</th>\n",
       "      <td>985.000000</td>\n",
       "      <td>985.000000</td>\n",
       "      <td>985.000000</td>\n",
       "      <td>985.000000</td>\n",
       "      <td>985.000000</td>\n",
       "      <td>985.000000</td>\n",
       "      <td>985.000000</td>\n",
       "    </tr>\n",
       "    <tr>\n",
       "      <th>mean</th>\n",
       "      <td>1263.094416</td>\n",
       "      <td>8.250761</td>\n",
       "      <td>19486.901523</td>\n",
       "      <td>526.623350</td>\n",
       "      <td>49.363452</td>\n",
       "      <td>46.834518</td>\n",
       "      <td>2071.065990</td>\n",
       "    </tr>\n",
       "    <tr>\n",
       "      <th>std</th>\n",
       "      <td>140.694908</td>\n",
       "      <td>2.871762</td>\n",
       "      <td>10096.317202</td>\n",
       "      <td>317.606098</td>\n",
       "      <td>47.804457</td>\n",
       "      <td>17.107979</td>\n",
       "      <td>378.802377</td>\n",
       "    </tr>\n",
       "    <tr>\n",
       "      <th>min</th>\n",
       "      <td>1000.000000</td>\n",
       "      <td>1.000000</td>\n",
       "      <td>0.000000</td>\n",
       "      <td>0.000000</td>\n",
       "      <td>0.000000</td>\n",
       "      <td>18.000000</td>\n",
       "      <td>1950.000000</td>\n",
       "    </tr>\n",
       "    <tr>\n",
       "      <th>25%</th>\n",
       "      <td>1143.000000</td>\n",
       "      <td>6.000000</td>\n",
       "      <td>11785.000000</td>\n",
       "      <td>284.000000</td>\n",
       "      <td>6.000000</td>\n",
       "      <td>30.000000</td>\n",
       "      <td>1950.000000</td>\n",
       "    </tr>\n",
       "    <tr>\n",
       "      <th>50%</th>\n",
       "      <td>1277.000000</td>\n",
       "      <td>9.000000</td>\n",
       "      <td>19324.000000</td>\n",
       "      <td>518.000000</td>\n",
       "      <td>38.000000</td>\n",
       "      <td>45.000000</td>\n",
       "      <td>1950.000000</td>\n",
       "    </tr>\n",
       "    <tr>\n",
       "      <th>75%</th>\n",
       "      <td>1381.000000</td>\n",
       "      <td>11.000000</td>\n",
       "      <td>26863.000000</td>\n",
       "      <td>752.000000</td>\n",
       "      <td>79.000000</td>\n",
       "      <td>63.000000</td>\n",
       "      <td>1950.000000</td>\n",
       "    </tr>\n",
       "    <tr>\n",
       "      <th>max</th>\n",
       "      <td>1495.000000</td>\n",
       "      <td>12.000000</td>\n",
       "      <td>49789.000000</td>\n",
       "      <td>1673.000000</td>\n",
       "      <td>224.000000</td>\n",
       "      <td>75.000000</td>\n",
       "      <td>4800.000000</td>\n",
       "    </tr>\n",
       "  </tbody>\n",
       "</table>\n",
       "</div>"
      ],
      "text/plain": [
       "           user_id       month       mb_used      minutes         msg  \\\n",
       "count   985.000000  985.000000    985.000000   985.000000  985.000000   \n",
       "mean   1263.094416    8.250761  19486.901523   526.623350   49.363452   \n",
       "std     140.694908    2.871762  10096.317202   317.606098   47.804457   \n",
       "min    1000.000000    1.000000      0.000000     0.000000    0.000000   \n",
       "25%    1143.000000    6.000000  11785.000000   284.000000    6.000000   \n",
       "50%    1277.000000    9.000000  19324.000000   518.000000   38.000000   \n",
       "75%    1381.000000   11.000000  26863.000000   752.000000   79.000000   \n",
       "max    1495.000000   12.000000  49789.000000  1673.000000  224.000000   \n",
       "\n",
       "              age    total_sum  \n",
       "count  985.000000   985.000000  \n",
       "mean    46.834518  2071.065990  \n",
       "std     17.107979   378.802377  \n",
       "min     18.000000  1950.000000  \n",
       "25%     30.000000  1950.000000  \n",
       "50%     45.000000  1950.000000  \n",
       "75%     63.000000  1950.000000  \n",
       "max     75.000000  4800.000000  "
      ]
     },
     "execution_count": 30,
     "metadata": {},
     "output_type": "execute_result"
    }
   ],
   "source": [
    "data.query('tariff == \"ultra\"').describe()"
   ]
  },
  {
   "cell_type": "code",
   "execution_count": 31,
   "metadata": {},
   "outputs": [
    {
     "data": {
      "text/html": [
       "<div>\n",
       "<style scoped>\n",
       "    .dataframe tbody tr th:only-of-type {\n",
       "        vertical-align: middle;\n",
       "    }\n",
       "\n",
       "    .dataframe tbody tr th {\n",
       "        vertical-align: top;\n",
       "    }\n",
       "\n",
       "    .dataframe thead th {\n",
       "        text-align: right;\n",
       "    }\n",
       "</style>\n",
       "<table border=\"1\" class=\"dataframe\">\n",
       "  <thead>\n",
       "    <tr style=\"text-align: right;\">\n",
       "      <th></th>\n",
       "      <th>user_id</th>\n",
       "      <th>month</th>\n",
       "      <th>mb_used</th>\n",
       "      <th>minutes</th>\n",
       "      <th>msg</th>\n",
       "      <th>age</th>\n",
       "      <th>total_sum</th>\n",
       "    </tr>\n",
       "  </thead>\n",
       "  <tbody>\n",
       "    <tr>\n",
       "      <th>count</th>\n",
       "      <td>2229.000000</td>\n",
       "      <td>2229.000000</td>\n",
       "      <td>2229.000000</td>\n",
       "      <td>2229.000000</td>\n",
       "      <td>2229.000000</td>\n",
       "      <td>2229.000000</td>\n",
       "      <td>2229.000000</td>\n",
       "    </tr>\n",
       "    <tr>\n",
       "      <th>mean</th>\n",
       "      <td>1246.506505</td>\n",
       "      <td>8.346792</td>\n",
       "      <td>16229.188425</td>\n",
       "      <td>417.934948</td>\n",
       "      <td>33.384029</td>\n",
       "      <td>46.556303</td>\n",
       "      <td>1294.639300</td>\n",
       "    </tr>\n",
       "    <tr>\n",
       "      <th>std</th>\n",
       "      <td>146.119496</td>\n",
       "      <td>2.920316</td>\n",
       "      <td>5877.576978</td>\n",
       "      <td>190.313730</td>\n",
       "      <td>28.227876</td>\n",
       "      <td>16.353371</td>\n",
       "      <td>820.933202</td>\n",
       "    </tr>\n",
       "    <tr>\n",
       "      <th>min</th>\n",
       "      <td>1001.000000</td>\n",
       "      <td>1.000000</td>\n",
       "      <td>0.000000</td>\n",
       "      <td>0.000000</td>\n",
       "      <td>0.000000</td>\n",
       "      <td>18.000000</td>\n",
       "      <td>550.000000</td>\n",
       "    </tr>\n",
       "    <tr>\n",
       "      <th>25%</th>\n",
       "      <td>1121.000000</td>\n",
       "      <td>6.000000</td>\n",
       "      <td>12658.000000</td>\n",
       "      <td>282.000000</td>\n",
       "      <td>10.000000</td>\n",
       "      <td>32.000000</td>\n",
       "      <td>550.000000</td>\n",
       "    </tr>\n",
       "    <tr>\n",
       "      <th>50%</th>\n",
       "      <td>1239.000000</td>\n",
       "      <td>9.000000</td>\n",
       "      <td>16531.000000</td>\n",
       "      <td>422.000000</td>\n",
       "      <td>28.000000</td>\n",
       "      <td>47.000000</td>\n",
       "      <td>1038.000000</td>\n",
       "    </tr>\n",
       "    <tr>\n",
       "      <th>75%</th>\n",
       "      <td>1376.000000</td>\n",
       "      <td>11.000000</td>\n",
       "      <td>20068.000000</td>\n",
       "      <td>545.000000</td>\n",
       "      <td>51.000000</td>\n",
       "      <td>62.000000</td>\n",
       "      <td>1750.000000</td>\n",
       "    </tr>\n",
       "    <tr>\n",
       "      <th>max</th>\n",
       "      <td>1499.000000</td>\n",
       "      <td>12.000000</td>\n",
       "      <td>38610.000000</td>\n",
       "      <td>1435.000000</td>\n",
       "      <td>143.000000</td>\n",
       "      <td>75.000000</td>\n",
       "      <td>6770.000000</td>\n",
       "    </tr>\n",
       "  </tbody>\n",
       "</table>\n",
       "</div>"
      ],
      "text/plain": [
       "           user_id        month       mb_used      minutes          msg  \\\n",
       "count  2229.000000  2229.000000   2229.000000  2229.000000  2229.000000   \n",
       "mean   1246.506505     8.346792  16229.188425   417.934948    33.384029   \n",
       "std     146.119496     2.920316   5877.576978   190.313730    28.227876   \n",
       "min    1001.000000     1.000000      0.000000     0.000000     0.000000   \n",
       "25%    1121.000000     6.000000  12658.000000   282.000000    10.000000   \n",
       "50%    1239.000000     9.000000  16531.000000   422.000000    28.000000   \n",
       "75%    1376.000000    11.000000  20068.000000   545.000000    51.000000   \n",
       "max    1499.000000    12.000000  38610.000000  1435.000000   143.000000   \n",
       "\n",
       "               age    total_sum  \n",
       "count  2229.000000  2229.000000  \n",
       "mean     46.556303  1294.639300  \n",
       "std      16.353371   820.933202  \n",
       "min      18.000000   550.000000  \n",
       "25%      32.000000   550.000000  \n",
       "50%      47.000000  1038.000000  \n",
       "75%      62.000000  1750.000000  \n",
       "max      75.000000  6770.000000  "
      ]
     },
     "execution_count": 31,
     "metadata": {},
     "output_type": "execute_result"
    }
   ],
   "source": [
    "data.query('tariff == \"smart\"').describe()"
   ]
  },
  {
   "cell_type": "markdown",
   "metadata": {},
   "source": [
    "За год больше выручки получено с пользователей тарифа \"Смарт\", однако, число пользователей тарифа \"Смарт\" в представленной выборке больше, чем в два раза. Если сравнивать средние и медианные значения объемов услуг - они незначительно отличаются, следовательно в данных нет значительных статистических выбросов (кроме количества сообщений в данных тарифа \"Ультра\").\n",
    "Среднее значение выручки тарифа \"Смарт\" за месяц ниже, чем среднее тарифа \"Ультра\". При этом, три квантиля выручки с тарифа \"Ультра\" - это размер абонентской платы, то есть более 75% пользователей этого тарифа, \"укладываются\" в абонентскую плату.\n",
    "\n",
    "Посмотрим на графиках."
   ]
  },
  {
   "cell_type": "code",
   "execution_count": 32,
   "metadata": {},
   "outputs": [
    {
     "data": {
      "image/png": "[encoded data removed]",
      "text/plain": [
       "<Figure size 432x288 with 1 Axes>"
      ]
     },
     "metadata": {
      "needs_background": "light"
     },
     "output_type": "display_data"
    }
   ],
   "source": [
    "ax = (plt.hist(x=data.query('tariff == \"smart\"')['total_sum'],\n",
    "    bins=20, range = (data.query('tariff == \"smart\"')['total_sum'].min(), data.query('tariff == \"smart\"')['total_sum'].max()),\n",
    "    label  = 'smart', alpha = 0.4))\n",
    "plt.hist(x=data.query('tariff == \"ultra\"')['total_sum'],\n",
    "    bins=20, range = ((data.query('tariff == \"ultra\"')['total_sum'].min(), data.query('tariff == \"ultra\"')['total_sum'].max())),\n",
    "    label = 'ultra', alpha = 0.4)\n",
    " \n",
    "plt.ylabel('Частота')\n",
    "plt.xlabel('Затраты в месяц')\n",
    "plt.grid() \n",
    "plt.legend();"
   ]
  },
  {
   "cell_type": "markdown",
   "metadata": {},
   "source": [
    "Пользователи тарифа \"Смарт\" тратят в основном до 1000 руб. в месяц, тода как большая часть пользователей тарифа \"Ультра\" - оплачивают только абонентскую плату."
   ]
  },
  {
   "cell_type": "code",
   "execution_count": 33,
   "metadata": {},
   "outputs": [
    {
     "data": {
      "image/png": "[encoded data removed]",
      "text/plain": [
       "<Figure size 432x288 with 1 Axes>"
      ]
     },
     "metadata": {
      "needs_background": "light"
     },
     "output_type": "display_data"
    }
   ],
   "source": [
    "data.pivot_table(index = 'month', values = 'total_sum', aggfunc = 'mean').plot(grid = True)\n",
    "plt.xlabel('Месяцы')\n",
    "plt.ylabel('Сумма')\n",
    "plt.title('Средняя выручка с пользователя за период (без учета варианта тарифа)');   "
   ]
  },
  {
   "cell_type": "code",
   "execution_count": 34,
   "metadata": {},
   "outputs": [
    {
     "data": {
      "image/png": "[encoded data removed]",
      "text/plain": [
       "<Figure size 432x288 with 1 Axes>"
      ]
     },
     "metadata": {
      "needs_background": "light"
     },
     "output_type": "display_data"
    }
   ],
   "source": [
    "data.pivot_table(index = 'month',columns = 'tariff', values = 'total_sum', aggfunc = 'mean').plot(grid = True, )\n",
    "plt.xlabel('Месяцы')\n",
    "plt.ylabel('Сумма')\n",
    "plt.title('Средняя выручка с пользователя за период');    "
   ]
  },
  {
   "cell_type": "markdown",
   "metadata": {},
   "source": [
    "К концу года наблюдается рост выручки - в основном за счет пользователей тарифа \"Смарт\", хотя, и с пользователей тарифа \"Ультра\" выручка не падает. "
   ]
  },
  {
   "cell_type": "code",
   "execution_count": 35,
   "metadata": {},
   "outputs": [
    {
     "data": {
      "image/png": "[encoded data removed]",
      "text/plain": [
       "<Figure size 432x288 with 1 Axes>"
      ]
     },
     "metadata": {
      "needs_background": "light"
     },
     "output_type": "display_data"
    }
   ],
   "source": [
    "data.pivot_table(index = 'month',columns = 'tariff', values = 'user_id', aggfunc = 'count').plot(grid = True, )\n",
    "plt.xlabel('Месяцы')\n",
    "plt.ylabel('Количество пользователей')\n",
    "plt.title('Изменение количество пользователей за период');"
   ]
  },
  {
   "cell_type": "code",
   "execution_count": 36,
   "metadata": {},
   "outputs": [
    {
     "data": {
      "text/html": [
       "<div>\n",
       "<style scoped>\n",
       "    .dataframe tbody tr th:only-of-type {\n",
       "        vertical-align: middle;\n",
       "    }\n",
       "\n",
       "    .dataframe tbody tr th {\n",
       "        vertical-align: top;\n",
       "    }\n",
       "\n",
       "    .dataframe thead tr th {\n",
       "        text-align: left;\n",
       "    }\n",
       "\n",
       "    .dataframe thead tr:last-of-type th {\n",
       "        text-align: right;\n",
       "    }\n",
       "</style>\n",
       "<table border=\"1\" class=\"dataframe\">\n",
       "  <thead>\n",
       "    <tr>\n",
       "      <th></th>\n",
       "      <th colspan=\"2\" halign=\"left\">mean</th>\n",
       "      <th colspan=\"2\" halign=\"left\">count</th>\n",
       "      <th>relation</th>\n",
       "    </tr>\n",
       "    <tr>\n",
       "      <th>tariff</th>\n",
       "      <th>smart</th>\n",
       "      <th>ultra</th>\n",
       "      <th>smart</th>\n",
       "      <th>ultra</th>\n",
       "      <th></th>\n",
       "    </tr>\n",
       "    <tr>\n",
       "      <th>month</th>\n",
       "      <th></th>\n",
       "      <th></th>\n",
       "      <th></th>\n",
       "      <th></th>\n",
       "      <th></th>\n",
       "    </tr>\n",
       "  </thead>\n",
       "  <tbody>\n",
       "    <tr>\n",
       "      <th>1.0</th>\n",
       "      <td>721.323529</td>\n",
       "      <td>1950.000000</td>\n",
       "      <td>34</td>\n",
       "      <td>9</td>\n",
       "      <td>0.264706</td>\n",
       "    </tr>\n",
       "    <tr>\n",
       "      <th>2.0</th>\n",
       "      <td>827.603448</td>\n",
       "      <td>1975.000000</td>\n",
       "      <td>58</td>\n",
       "      <td>24</td>\n",
       "      <td>0.413793</td>\n",
       "    </tr>\n",
       "    <tr>\n",
       "      <th>3.0</th>\n",
       "      <td>1164.623377</td>\n",
       "      <td>2014.864865</td>\n",
       "      <td>77</td>\n",
       "      <td>37</td>\n",
       "      <td>0.480519</td>\n",
       "    </tr>\n",
       "    <tr>\n",
       "      <th>4.0</th>\n",
       "      <td>963.089286</td>\n",
       "      <td>2001.818182</td>\n",
       "      <td>112</td>\n",
       "      <td>55</td>\n",
       "      <td>0.491071</td>\n",
       "    </tr>\n",
       "    <tr>\n",
       "      <th>5.0</th>\n",
       "      <td>1204.602837</td>\n",
       "      <td>2061.940299</td>\n",
       "      <td>141</td>\n",
       "      <td>67</td>\n",
       "      <td>0.475177</td>\n",
       "    </tr>\n",
       "    <tr>\n",
       "      <th>6.0</th>\n",
       "      <td>1208.896341</td>\n",
       "      <td>2041.071429</td>\n",
       "      <td>164</td>\n",
       "      <td>84</td>\n",
       "      <td>0.512195</td>\n",
       "    </tr>\n",
       "    <tr>\n",
       "      <th>7.0</th>\n",
       "      <td>1228.925373</td>\n",
       "      <td>2121.428571</td>\n",
       "      <td>201</td>\n",
       "      <td>91</td>\n",
       "      <td>0.452736</td>\n",
       "    </tr>\n",
       "    <tr>\n",
       "      <th>8.0</th>\n",
       "      <td>1329.106383</td>\n",
       "      <td>2083.177570</td>\n",
       "      <td>235</td>\n",
       "      <td>107</td>\n",
       "      <td>0.455319</td>\n",
       "    </tr>\n",
       "    <tr>\n",
       "      <th>9.0</th>\n",
       "      <td>1255.330769</td>\n",
       "      <td>2024.347826</td>\n",
       "      <td>260</td>\n",
       "      <td>115</td>\n",
       "      <td>0.442308</td>\n",
       "    </tr>\n",
       "    <tr>\n",
       "      <th>10.0</th>\n",
       "      <td>1369.615646</td>\n",
       "      <td>2067.073171</td>\n",
       "      <td>294</td>\n",
       "      <td>123</td>\n",
       "      <td>0.418367</td>\n",
       "    </tr>\n",
       "    <tr>\n",
       "      <th>11.0</th>\n",
       "      <td>1347.477848</td>\n",
       "      <td>2093.283582</td>\n",
       "      <td>316</td>\n",
       "      <td>134</td>\n",
       "      <td>0.424051</td>\n",
       "    </tr>\n",
       "    <tr>\n",
       "      <th>12.0</th>\n",
       "      <td>1582.685460</td>\n",
       "      <td>2138.848921</td>\n",
       "      <td>337</td>\n",
       "      <td>139</td>\n",
       "      <td>0.412463</td>\n",
       "    </tr>\n",
       "  </tbody>\n",
       "</table>\n",
       "</div>"
      ],
      "text/plain": [
       "               mean              count        relation\n",
       "tariff        smart        ultra smart ultra          \n",
       "month                                                 \n",
       "1.0      721.323529  1950.000000    34     9  0.264706\n",
       "2.0      827.603448  1975.000000    58    24  0.413793\n",
       "3.0     1164.623377  2014.864865    77    37  0.480519\n",
       "4.0      963.089286  2001.818182   112    55  0.491071\n",
       "5.0     1204.602837  2061.940299   141    67  0.475177\n",
       "6.0     1208.896341  2041.071429   164    84  0.512195\n",
       "7.0     1228.925373  2121.428571   201    91  0.452736\n",
       "8.0     1329.106383  2083.177570   235   107  0.455319\n",
       "9.0     1255.330769  2024.347826   260   115  0.442308\n",
       "10.0    1369.615646  2067.073171   294   123  0.418367\n",
       "11.0    1347.477848  2093.283582   316   134  0.424051\n",
       "12.0    1582.685460  2138.848921   337   139  0.412463"
      ]
     },
     "execution_count": 36,
     "metadata": {},
     "output_type": "execute_result"
    }
   ],
   "source": [
    "data_relation = data.pivot_table(index = 'month',columns = 'tariff', values = 'total_sum', aggfunc = ['mean','count'])\n",
    "data_relation['relation'] =  data_relation[('count', 'ultra')] / data_relation[('count', 'smart')]\n",
    "data_relation"
   ]
  },
  {
   "cell_type": "markdown",
   "metadata": {},
   "source": [
    "Объем выручки увеличивается в связи с ростом числа пользователей и ростом выручки с пользователя. Рост числа пользователей \"Смарта\" также активнее. Следует обратить внимание на падение показателей в апереле, выяснить причины снижения."
   ]
  },
  {
   "cell_type": "markdown",
   "metadata": {},
   "source": [
    "Построим графики пользования услугами за период:"
   ]
  },
  {
   "cell_type": "code",
   "execution_count": 37,
   "metadata": {},
   "outputs": [
    {
     "data": {
      "image/png": "[encoded data removed]",
      "text/plain": [
       "<Figure size 432x288 with 1 Axes>"
      ]
     },
     "metadata": {
      "needs_background": "light"
     },
     "output_type": "display_data"
    },
    {
     "data": {
      "image/png": "[encoded data removed]",
      "text/plain": [
       "<Figure size 432x288 with 1 Axes>"
      ]
     },
     "metadata": {
      "needs_background": "light"
     },
     "output_type": "display_data"
    },
    {
     "data": {
      "image/png": "[encoded data removed]",
      "text/plain": [
       "<Figure size 432x288 with 1 Axes>"
      ]
     },
     "metadata": {
      "needs_background": "light"
     },
     "output_type": "display_data"
    }
   ],
   "source": [
    "for i in ['minutes','mb_used','msg']:\n",
    "    data.pivot_table(index = 'month',columns = 'tariff', values = i, aggfunc = 'mean').plot(grid = True)\n",
    "    if i == 'minutes':\n",
    "        i = 'Среднее время разговора'\n",
    "    elif i == 'mb_used': \n",
    "        i = 'Средний интернет-трафик'\n",
    "    else:\n",
    "        i = 'Среднее количество сообщений'\n",
    "        \n",
    "    plt.xlabel('Месяцы')\n",
    "    plt.ylabel(i)\n",
    "    plt.title('Изменение расхода по парамеру: {}'.format (i))\n",
    "    plt.show"
   ]
  },
  {
   "cell_type": "markdown",
   "metadata": {},
   "source": [
    "Средниий рост объема услуг обусловлен ростом числа пользователей."
   ]
  },
  {
   "cell_type": "markdown",
   "metadata": {},
   "source": [
    "Определим средние значения количества услуг для каждого тарифа и посчитаем статистические параметры выборки: среднее количество, дисперсию и стандартное отклонение"
   ]
  },
  {
   "cell_type": "markdown",
   "metadata": {},
   "source": [
    "* Звонки "
   ]
  },
  {
   "cell_type": "markdown",
   "metadata": {},
   "source": [
    "Изобразим на графике частот среднее количество звонков абонентов в месяц, на графиках отметим объемы минут, включенные в абонентскую плату"
   ]
  },
  {
   "cell_type": "code",
   "execution_count": 38,
   "metadata": {},
   "outputs": [
    {
     "data": {
      "image/png": "[encoded data removed]",
      "text/plain": [
       "<Figure size 432x288 with 1 Axes>"
      ]
     },
     "metadata": {
      "needs_background": "light"
     },
     "output_type": "display_data"
    }
   ],
   "source": [
    "m_s = (tariffs.loc['smart', 'minutes_included'])\n",
    "m_u = (tariffs.loc['ultra', 'minutes_included'])\n",
    "\n",
    "ax = plt.hist(x=data.query('tariff == \"smart\"')['minutes'],bins=100, range = (0, max(m_s,m_u)), label  = 'smart', alpha = 0.4)\n",
    "plt.hist(x=data.query('tariff == \"ultra\"')['minutes'],  bins=100, range = (0, max(m_s,m_u)), label = 'ultra', alpha = 0.4)\n",
    "plt.axvline(m_s,label = 'smart_included', color='b', linestyle='--')\n",
    "plt.axvline(m_u,label = 'ultra_included', color='r', linestyle='--')\n",
    "plt.ylabel('Частота')\n",
    "plt.xlabel('Длительность')\n",
    "plt.grid()\n",
    "plt.legend();"
   ]
  },
  {
   "cell_type": "markdown",
   "metadata": {},
   "source": [
    "Посчитаем количество превышений (для тарифа \"Ультра\" количество тех, кто превысил половину)"
   ]
  },
  {
   "cell_type": "code",
   "execution_count": 39,
   "metadata": {},
   "outputs": [
    {
     "name": "stdout",
     "output_type": "stream",
     "text": [
      "Число пользоватетей тарифа \"ультра\", использовавших более половины включенных в тариф минут:  2 чел.\n",
      "Процент пользователей тарифа \"смарт\", превысивших лимит минут: 33.83%\n"
     ]
    }
   ],
   "source": [
    "print('Число пользоватетей тарифа \"ультра\", использовавших более половины включенных в тариф минут: ',\\\n",
    "    len(data[(data['tariff']== \"ultra\") & (data['minutes'] > m_u/2)]), 'чел.')\n",
    "print('Процент пользователей тарифа \"смарт\", превысивших лимит минут: {:.2%}'\\\n",
    "      .format(len(data[(data['tariff']== \"smart\") & (data['minutes'] > m_s)])/len(data[(data['tariff']== \"smart\")])))"
   ]
  },
  {
   "cell_type": "markdown",
   "metadata": {},
   "source": [
    "Абоненты тарифа \"Ультра\" не используют количество минут, включенное в абонентскую плату, только дважды пользователи этого тарифа использовали половину предоставленного времени. Пользователи тарифа \"Смарт\" достаточно часто выходят за пределы абонентской платы (34%)"
   ]
  },
  {
   "cell_type": "code",
   "execution_count": 40,
   "metadata": {},
   "outputs": [
    {
     "data": {
      "text/html": [
       "<div>\n",
       "<style scoped>\n",
       "    .dataframe tbody tr th:only-of-type {\n",
       "        vertical-align: middle;\n",
       "    }\n",
       "\n",
       "    .dataframe tbody tr th {\n",
       "        vertical-align: top;\n",
       "    }\n",
       "\n",
       "    .dataframe thead tr th {\n",
       "        text-align: left;\n",
       "    }\n",
       "\n",
       "    .dataframe thead tr:last-of-type th {\n",
       "        text-align: right;\n",
       "    }\n",
       "</style>\n",
       "<table border=\"1\" class=\"dataframe\">\n",
       "  <thead>\n",
       "    <tr>\n",
       "      <th></th>\n",
       "      <th>mean</th>\n",
       "      <th>var</th>\n",
       "      <th>std</th>\n",
       "    </tr>\n",
       "    <tr>\n",
       "      <th></th>\n",
       "      <th>minutes</th>\n",
       "      <th>minutes</th>\n",
       "      <th>minutes</th>\n",
       "    </tr>\n",
       "    <tr>\n",
       "      <th>tariff</th>\n",
       "      <th></th>\n",
       "      <th></th>\n",
       "      <th></th>\n",
       "    </tr>\n",
       "  </thead>\n",
       "  <tbody>\n",
       "    <tr>\n",
       "      <th>smart</th>\n",
       "      <td>417.934948</td>\n",
       "      <td>36219.315784</td>\n",
       "      <td>190.313730</td>\n",
       "    </tr>\n",
       "    <tr>\n",
       "      <th>ultra</th>\n",
       "      <td>526.623350</td>\n",
       "      <td>100873.633397</td>\n",
       "      <td>317.606098</td>\n",
       "    </tr>\n",
       "  </tbody>\n",
       "</table>\n",
       "</div>"
      ],
      "text/plain": [
       "              mean            var         std\n",
       "           minutes        minutes     minutes\n",
       "tariff                                       \n",
       "smart   417.934948   36219.315784  190.313730\n",
       "ultra   526.623350  100873.633397  317.606098"
      ]
     },
     "execution_count": 40,
     "metadata": {},
     "output_type": "execute_result"
    }
   ],
   "source": [
    "data.pivot_table(index = 'tariff', values = 'minutes', aggfunc = ['mean','var', 'std'])"
   ]
  },
  {
   "cell_type": "markdown",
   "metadata": {},
   "source": [
    "##### На гистогамме частот распределение длительности звонков тарифа \"Смарт\" имеет вид , близкий к распределению Пуассона. Распределение длительности звонков тарифа \"Ультра\"  - равномерное распределение, если принять значительное количество нулевых значений статистическим выбросом. Различие форм гистограмм поясняют отличающиеся значения дисперсии: \"Смарт\" - 36219, \"Ультра\" - 100874 и значения стандартного отклонения: \"Смарт\" - 190, \"Ультра\" - 318. \n",
    "\n",
    "В выборке имеются звонки с длительностью 0. Ранее, при обработке файла с информацией от звонках, мы отбросили звонки с длительностью 0 минут и предположили, что это звонки без ответа. В объединенной выборке - данные с нулевой длительностью звонков у абонентов, которые пользуются другими видами услуг оператора."
   ]
  },
  {
   "cell_type": "code",
   "execution_count": 41,
   "metadata": {
    "scrolled": true
   },
   "outputs": [
    {
     "data": {
      "text/html": [
       "<div>\n",
       "<style scoped>\n",
       "    .dataframe tbody tr th:only-of-type {\n",
       "        vertical-align: middle;\n",
       "    }\n",
       "\n",
       "    .dataframe tbody tr th {\n",
       "        vertical-align: top;\n",
       "    }\n",
       "\n",
       "    .dataframe thead th {\n",
       "        text-align: right;\n",
       "    }\n",
       "</style>\n",
       "<table border=\"1\" class=\"dataframe\">\n",
       "  <thead>\n",
       "    <tr style=\"text-align: right;\">\n",
       "      <th></th>\n",
       "      <th>user_id</th>\n",
       "      <th>month</th>\n",
       "      <th>mb_used</th>\n",
       "      <th>minutes</th>\n",
       "      <th>msg</th>\n",
       "      <th>age</th>\n",
       "      <th>churn_date</th>\n",
       "      <th>city</th>\n",
       "      <th>reg_date</th>\n",
       "      <th>tariff</th>\n",
       "      <th>total_sum</th>\n",
       "    </tr>\n",
       "  </thead>\n",
       "  <tbody>\n",
       "    <tr>\n",
       "      <th>3037</th>\n",
       "      <td>1473</td>\n",
       "      <td>8.0</td>\n",
       "      <td>12917.0</td>\n",
       "      <td>0.0</td>\n",
       "      <td>17.0</td>\n",
       "      <td>18</td>\n",
       "      <td>2030-01-01</td>\n",
       "      <td>Красноярск</td>\n",
       "      <td>2018-08-05</td>\n",
       "      <td>ultra</td>\n",
       "      <td>1950.0</td>\n",
       "    </tr>\n",
       "    <tr>\n",
       "      <th>3145</th>\n",
       "      <td>1489</td>\n",
       "      <td>12.0</td>\n",
       "      <td>17341.0</td>\n",
       "      <td>0.0</td>\n",
       "      <td>35.0</td>\n",
       "      <td>35</td>\n",
       "      <td>2030-01-01</td>\n",
       "      <td>Санкт-Петербург</td>\n",
       "      <td>2018-08-15</td>\n",
       "      <td>smart</td>\n",
       "      <td>950.0</td>\n",
       "    </tr>\n",
       "    <tr>\n",
       "      <th>570</th>\n",
       "      <td>1091</td>\n",
       "      <td>5.0</td>\n",
       "      <td>10714.0</td>\n",
       "      <td>0.0</td>\n",
       "      <td>30.0</td>\n",
       "      <td>36</td>\n",
       "      <td>2030-01-01</td>\n",
       "      <td>Набережные Челны</td>\n",
       "      <td>2018-05-08</td>\n",
       "      <td>ultra</td>\n",
       "      <td>1950.0</td>\n",
       "    </tr>\n",
       "    <tr>\n",
       "      <th>576</th>\n",
       "      <td>1091</td>\n",
       "      <td>11.0</td>\n",
       "      <td>11876.0</td>\n",
       "      <td>0.0</td>\n",
       "      <td>28.0</td>\n",
       "      <td>36</td>\n",
       "      <td>2030-01-01</td>\n",
       "      <td>Набережные Челны</td>\n",
       "      <td>2018-05-08</td>\n",
       "      <td>ultra</td>\n",
       "      <td>1950.0</td>\n",
       "    </tr>\n",
       "    <tr>\n",
       "      <th>671</th>\n",
       "      <td>1106</td>\n",
       "      <td>4.0</td>\n",
       "      <td>2925.0</td>\n",
       "      <td>0.0</td>\n",
       "      <td>9.0</td>\n",
       "      <td>67</td>\n",
       "      <td>2030-01-01</td>\n",
       "      <td>Калуга</td>\n",
       "      <td>2018-04-26</td>\n",
       "      <td>ultra</td>\n",
       "      <td>1950.0</td>\n",
       "    </tr>\n",
       "  </tbody>\n",
       "</table>\n",
       "</div>"
      ],
      "text/plain": [
       "      user_id  month  mb_used  minutes   msg  age churn_date  \\\n",
       "3037     1473    8.0  12917.0      0.0  17.0   18 2030-01-01   \n",
       "3145     1489   12.0  17341.0      0.0  35.0   35 2030-01-01   \n",
       "570      1091    5.0  10714.0      0.0  30.0   36 2030-01-01   \n",
       "576      1091   11.0  11876.0      0.0  28.0   36 2030-01-01   \n",
       "671      1106    4.0   2925.0      0.0   9.0   67 2030-01-01   \n",
       "\n",
       "                  city   reg_date tariff  total_sum  \n",
       "3037        Красноярск 2018-08-05  ultra     1950.0  \n",
       "3145   Санкт-Петербург 2018-08-15  smart      950.0  \n",
       "570   Набережные Челны 2018-05-08  ultra     1950.0  \n",
       "576   Набережные Челны 2018-05-08  ultra     1950.0  \n",
       "671             Калуга 2018-04-26  ultra     1950.0  "
      ]
     },
     "execution_count": 41,
     "metadata": {},
     "output_type": "execute_result"
    }
   ],
   "source": [
    "data[data['minutes'] == 0].sample(5)"
   ]
  },
  {
   "cell_type": "markdown",
   "metadata": {},
   "source": [
    "Это в основном, пользователи тарифа \"ультра\", который предполагает больший пакет интернета в абонентской плате"
   ]
  },
  {
   "cell_type": "markdown",
   "metadata": {},
   "source": [
    "* Интернет"
   ]
  },
  {
   "cell_type": "code",
   "execution_count": 42,
   "metadata": {},
   "outputs": [
    {
     "data": {
      "image/png": "[encoded data removed]",
      "text/plain": [
       "<Figure size 432x288 with 1 Axes>"
      ]
     },
     "metadata": {
      "needs_background": "light"
     },
     "output_type": "display_data"
    }
   ],
   "source": [
    "i_s = (tariffs.loc['smart', 'mb_per_month_included'])\n",
    "i_u = (tariffs.loc['ultra', 'mb_per_month_included'])\n",
    "\n",
    "ax = plt.hist(x=data.query('tariff == \"smart\"')['mb_used'],bins=100, label  = 'smart', alpha = 0.4)\n",
    "plt.hist(x=data.query('tariff == \"ultra\"')['mb_used'],  bins=100, label = 'ultra', alpha = 0.4)\n",
    "plt.axvline(i_s,label = 'smart_included', color='b', linestyle='--')\n",
    "plt.axvline(i_u,label = 'ultra_included', color='r', linestyle='--')\n",
    "\n",
    "\n",
    "plt.ylabel('Частота')\n",
    "plt.xlabel('Объем трафика, Мб')\n",
    "plt.grid() \n",
    "plt.legend();"
   ]
  },
  {
   "cell_type": "code",
   "execution_count": 43,
   "metadata": {},
   "outputs": [
    {
     "name": "stdout",
     "output_type": "stream",
     "text": [
      "Процент пользователей тарифа \"смарт\", превысивших лимит интернета: 58.73%\n",
      "Процент пользователей тарифа \"ультра\", превысивших лимит интернета: 13.60%\n",
      "Среднемесячное превышение трафика в тарифе \"смарт\": 869 Мб\n"
     ]
    }
   ],
   "source": [
    "print('Процент пользователей тарифа \"смарт\", превысивших лимит интернета: {:.2%}'\\\n",
    "      .format(len(data[(data['tariff']== \"smart\") & (data['mb_used'] > i_s)])/len(data[(data['tariff']== \"smart\")])))\n",
    "\n",
    "print('Процент пользователей тарифа \"ультра\", превысивших лимит интернета: {:.2%}'\\\n",
    "       .format(len(data[(data['tariff']== \"ultra\") & (data['mb_used'] > i_u)]) / len(data[(data['tariff']== \"ultra\")])))\n",
    "\n",
    "print('Среднемесячное превышение трафика в тарифе \"смарт\":',\\\n",
    "      int(round(-1*(i_s - data['mb_used'][data['tariff']== \"smart\"].mean()))), 'Мб')"
   ]
  },
  {
   "cell_type": "markdown",
   "metadata": {},
   "source": [
    "13% пользователей тарифа \"Ультра\" и 59% пользователей тарифа \"Смарт\" превысили лимит интернет трафика, включенного в абонентскую плату. Среднее значение ежемесячного трафика првышает абонентскую плату (тариф \"Смарт\") на 870 Мб. "
   ]
  },
  {
   "cell_type": "code",
   "execution_count": 44,
   "metadata": {},
   "outputs": [
    {
     "data": {
      "text/html": [
       "<div>\n",
       "<style scoped>\n",
       "    .dataframe tbody tr th:only-of-type {\n",
       "        vertical-align: middle;\n",
       "    }\n",
       "\n",
       "    .dataframe tbody tr th {\n",
       "        vertical-align: top;\n",
       "    }\n",
       "\n",
       "    .dataframe thead th {\n",
       "        text-align: right;\n",
       "    }\n",
       "</style>\n",
       "<table border=\"1\" class=\"dataframe\">\n",
       "  <thead>\n",
       "    <tr style=\"text-align: right;\">\n",
       "      <th></th>\n",
       "      <th>user_id</th>\n",
       "      <th>month</th>\n",
       "      <th>mb_used</th>\n",
       "      <th>minutes</th>\n",
       "      <th>msg</th>\n",
       "      <th>age</th>\n",
       "      <th>churn_date</th>\n",
       "      <th>city</th>\n",
       "      <th>reg_date</th>\n",
       "      <th>tariff</th>\n",
       "      <th>total_sum</th>\n",
       "    </tr>\n",
       "  </thead>\n",
       "  <tbody>\n",
       "    <tr>\n",
       "      <th>1044</th>\n",
       "      <td>1165</td>\n",
       "      <td>11.0</td>\n",
       "      <td>42182.0</td>\n",
       "      <td>232.0</td>\n",
       "      <td>197.0</td>\n",
       "      <td>19</td>\n",
       "      <td>2030-01-01</td>\n",
       "      <td>Самара</td>\n",
       "      <td>2018-10-14</td>\n",
       "      <td>ultra</td>\n",
       "      <td>3750.0</td>\n",
       "    </tr>\n",
       "    <tr>\n",
       "      <th>1161</th>\n",
       "      <td>1180</td>\n",
       "      <td>7.0</td>\n",
       "      <td>34735.0</td>\n",
       "      <td>96.0</td>\n",
       "      <td>17.0</td>\n",
       "      <td>27</td>\n",
       "      <td>2030-01-01</td>\n",
       "      <td>Москва</td>\n",
       "      <td>2018-02-02</td>\n",
       "      <td>ultra</td>\n",
       "      <td>2550.0</td>\n",
       "    </tr>\n",
       "    <tr>\n",
       "      <th>1852</th>\n",
       "      <td>1292</td>\n",
       "      <td>12.0</td>\n",
       "      <td>36210.0</td>\n",
       "      <td>226.0</td>\n",
       "      <td>0.0</td>\n",
       "      <td>63</td>\n",
       "      <td>2030-01-01</td>\n",
       "      <td>Красноярск</td>\n",
       "      <td>2018-02-21</td>\n",
       "      <td>ultra</td>\n",
       "      <td>2850.0</td>\n",
       "    </tr>\n",
       "    <tr>\n",
       "      <th>937</th>\n",
       "      <td>1148</td>\n",
       "      <td>8.0</td>\n",
       "      <td>34096.0</td>\n",
       "      <td>717.0</td>\n",
       "      <td>14.0</td>\n",
       "      <td>23</td>\n",
       "      <td>2030-01-01</td>\n",
       "      <td>Тольятти</td>\n",
       "      <td>2018-04-17</td>\n",
       "      <td>ultra</td>\n",
       "      <td>2550.0</td>\n",
       "    </tr>\n",
       "    <tr>\n",
       "      <th>2635</th>\n",
       "      <td>1412</td>\n",
       "      <td>8.0</td>\n",
       "      <td>37107.0</td>\n",
       "      <td>845.0</td>\n",
       "      <td>43.0</td>\n",
       "      <td>63</td>\n",
       "      <td>2030-01-01</td>\n",
       "      <td>Волгоград</td>\n",
       "      <td>2018-06-05</td>\n",
       "      <td>ultra</td>\n",
       "      <td>3000.0</td>\n",
       "    </tr>\n",
       "  </tbody>\n",
       "</table>\n",
       "</div>"
      ],
      "text/plain": [
       "      user_id  month  mb_used  minutes    msg  age churn_date        city  \\\n",
       "1044     1165   11.0  42182.0    232.0  197.0   19 2030-01-01      Самара   \n",
       "1161     1180    7.0  34735.0     96.0   17.0   27 2030-01-01      Москва   \n",
       "1852     1292   12.0  36210.0    226.0    0.0   63 2030-01-01  Красноярск   \n",
       "937      1148    8.0  34096.0    717.0   14.0   23 2030-01-01    Тольятти   \n",
       "2635     1412    8.0  37107.0    845.0   43.0   63 2030-01-01   Волгоград   \n",
       "\n",
       "       reg_date tariff  total_sum  \n",
       "1044 2018-10-14  ultra     3750.0  \n",
       "1161 2018-02-02  ultra     2550.0  \n",
       "1852 2018-02-21  ultra     2850.0  \n",
       "937  2018-04-17  ultra     2550.0  \n",
       "2635 2018-06-05  ultra     3000.0  "
      ]
     },
     "execution_count": 44,
     "metadata": {},
     "output_type": "execute_result"
    }
   ],
   "source": [
    "(data[(data['tariff']== \"ultra\") & (data['mb_used'] > i_u)]).sample(5)"
   ]
  },
  {
   "cell_type": "code",
   "execution_count": 45,
   "metadata": {},
   "outputs": [
    {
     "data": {
      "text/html": [
       "<div>\n",
       "<style scoped>\n",
       "    .dataframe tbody tr th:only-of-type {\n",
       "        vertical-align: middle;\n",
       "    }\n",
       "\n",
       "    .dataframe tbody tr th {\n",
       "        vertical-align: top;\n",
       "    }\n",
       "\n",
       "    .dataframe thead tr th {\n",
       "        text-align: left;\n",
       "    }\n",
       "\n",
       "    .dataframe thead tr:last-of-type th {\n",
       "        text-align: right;\n",
       "    }\n",
       "</style>\n",
       "<table border=\"1\" class=\"dataframe\">\n",
       "  <thead>\n",
       "    <tr>\n",
       "      <th></th>\n",
       "      <th>mean</th>\n",
       "      <th>var</th>\n",
       "      <th>std</th>\n",
       "    </tr>\n",
       "    <tr>\n",
       "      <th></th>\n",
       "      <th>mb_used</th>\n",
       "      <th>mb_used</th>\n",
       "      <th>mb_used</th>\n",
       "    </tr>\n",
       "    <tr>\n",
       "      <th>tariff</th>\n",
       "      <th></th>\n",
       "      <th></th>\n",
       "      <th></th>\n",
       "    </tr>\n",
       "  </thead>\n",
       "  <tbody>\n",
       "    <tr>\n",
       "      <th>smart</th>\n",
       "      <td>16229.188425</td>\n",
       "      <td>3.454591e+07</td>\n",
       "      <td>5877.576978</td>\n",
       "    </tr>\n",
       "    <tr>\n",
       "      <th>ultra</th>\n",
       "      <td>19486.901523</td>\n",
       "      <td>1.019356e+08</td>\n",
       "      <td>10096.317202</td>\n",
       "    </tr>\n",
       "  </tbody>\n",
       "</table>\n",
       "</div>"
      ],
      "text/plain": [
       "                mean           var           std\n",
       "             mb_used       mb_used       mb_used\n",
       "tariff                                          \n",
       "smart   16229.188425  3.454591e+07   5877.576978\n",
       "ultra   19486.901523  1.019356e+08  10096.317202"
      ]
     },
     "execution_count": 45,
     "metadata": {},
     "output_type": "execute_result"
    }
   ],
   "source": [
    "data.pivot_table(index = 'tariff', values = 'mb_used', aggfunc = ['mean','var', 'std'])"
   ]
  },
  {
   "cell_type": "markdown",
   "metadata": {},
   "source": [
    "##### На гистогамме частот распределение объема интернет-трафика тарифа \"Смарт\"  также имеет вид , близкий к распределению Пуассона. Распределение тарифа \"Ультра\"  - равномерное распределение. Здесь также отличается среднее значение, различие форм гистограмм поясняют отличающиеся значения дисперсии и значения стандартного отклонения: в тарифе \"Ультра\" значения выше - график более распределен по оси \"х\"."
   ]
  },
  {
   "cell_type": "markdown",
   "metadata": {},
   "source": [
    "* Сообщения"
   ]
  },
  {
   "cell_type": "code",
   "execution_count": 46,
   "metadata": {},
   "outputs": [
    {
     "data": {
      "image/png": "[encoded data removed]",
      "text/plain": [
       "<Figure size 432x288 with 1 Axes>"
      ]
     },
     "metadata": {
      "needs_background": "light"
     },
     "output_type": "display_data"
    }
   ],
   "source": [
    "s_s = (tariffs.loc['smart', 'messages_included'])\n",
    "s_u = (tariffs.loc['ultra', 'messages_included'])\n",
    "\n",
    "ax = plt.hist(x=data.query('tariff == \"smart\"')['msg'],bins=100, range = (0,100), label  = 'smart', alpha = 0.4)\n",
    "plt.hist(x=data.query('tariff == \"ultra\"')['msg'],  bins=100, range = (0,100), label = 'ultra', alpha = 0.4)\n",
    "plt.axvline(s_s,label = 'smart_included', color='b', linestyle='--')\n",
    "plt.axvline(s_u,label = 'ultra_included', color='r', linestyle='--')\n",
    "\n",
    "plt.ylabel('Частота')\n",
    "plt.xlabel('Количество смс')\n",
    "plt.grid() \n",
    "plt.legend();"
   ]
  },
  {
   "cell_type": "markdown",
   "metadata": {},
   "source": [
    "Значительное количество пользователей (в тарифе \"смарт\" - около 300, в тарифе \"ультра\" - около 190) не используют услугу передачи сообщений, Пользователям тарифа \"Ультра\" не требуется такое количество смс, которое включено в абонентскую плату. Посмотрим гистограмму частот без пользователей, не использующих услугу смс:"
   ]
  },
  {
   "cell_type": "code",
   "execution_count": 47,
   "metadata": {},
   "outputs": [
    {
     "data": {
      "image/png": "[encoded data removed]",
      "text/plain": [
       "<Figure size 432x288 with 1 Axes>"
      ]
     },
     "metadata": {
      "needs_background": "light"
     },
     "output_type": "display_data"
    }
   ],
   "source": [
    "ax = plt.hist(x=data.query('tariff == \"smart\"')['msg'],bins=100, range = (1,100), label  = 'smart', alpha = 0.4)\n",
    "plt.hist(x=data.query('tariff == \"ultra\"')['msg'],  bins=100, range = (1,100), label = 'ultra', alpha = 0.4)\n",
    " \n",
    "plt.ylabel('Частота')\n",
    "plt.xlabel('Количество смс')\n",
    "plt.axvline(s_s,label = 'smart_included', color='b', linestyle='--') \n",
    "plt.grid()\n",
    "plt.legend();"
   ]
  },
  {
   "cell_type": "code",
   "execution_count": 48,
   "metadata": {},
   "outputs": [
    {
     "data": {
      "text/html": [
       "<div>\n",
       "<style scoped>\n",
       "    .dataframe tbody tr th:only-of-type {\n",
       "        vertical-align: middle;\n",
       "    }\n",
       "\n",
       "    .dataframe tbody tr th {\n",
       "        vertical-align: top;\n",
       "    }\n",
       "\n",
       "    .dataframe thead tr th {\n",
       "        text-align: left;\n",
       "    }\n",
       "\n",
       "    .dataframe thead tr:last-of-type th {\n",
       "        text-align: right;\n",
       "    }\n",
       "</style>\n",
       "<table border=\"1\" class=\"dataframe\">\n",
       "  <thead>\n",
       "    <tr>\n",
       "      <th></th>\n",
       "      <th>mean</th>\n",
       "      <th>var</th>\n",
       "      <th>std</th>\n",
       "    </tr>\n",
       "    <tr>\n",
       "      <th></th>\n",
       "      <th>msg</th>\n",
       "      <th>msg</th>\n",
       "      <th>msg</th>\n",
       "    </tr>\n",
       "    <tr>\n",
       "      <th>tariff</th>\n",
       "      <th></th>\n",
       "      <th></th>\n",
       "      <th></th>\n",
       "    </tr>\n",
       "  </thead>\n",
       "  <tbody>\n",
       "    <tr>\n",
       "      <th>smart</th>\n",
       "      <td>33.384029</td>\n",
       "      <td>796.812958</td>\n",
       "      <td>28.227876</td>\n",
       "    </tr>\n",
       "    <tr>\n",
       "      <th>ultra</th>\n",
       "      <td>49.363452</td>\n",
       "      <td>2285.266143</td>\n",
       "      <td>47.804457</td>\n",
       "    </tr>\n",
       "  </tbody>\n",
       "</table>\n",
       "</div>"
      ],
      "text/plain": [
       "             mean          var        std\n",
       "              msg          msg        msg\n",
       "tariff                                   \n",
       "smart   33.384029   796.812958  28.227876\n",
       "ultra   49.363452  2285.266143  47.804457"
      ]
     },
     "execution_count": 48,
     "metadata": {},
     "output_type": "execute_result"
    }
   ],
   "source": [
    "data.pivot_table(index = 'tariff', values = 'msg', aggfunc = ['mean','var', 'std'])"
   ]
  },
  {
   "cell_type": "markdown",
   "metadata": {},
   "source": [
    "##### Гистогамма частот количества сообщений имеет вид, аналогичный предыдущим гистограммам, близкий к распределению Пуассона. Распределение тарифа \"Ультра\"  - равномерное распределение. Здесь также отличается среднее значение, значения дисперсии и значения стандартного отклонения в тарифе \"ультра\" выше  чем в тарифе \"Смарт\"."
   ]
  },
  {
   "cell_type": "markdown",
   "metadata": {},
   "source": [
    "### Вывод"
   ]
  },
  {
   "cell_type": "markdown",
   "metadata": {},
   "source": [
    "#### Начиная с марта наблюдается рост использования услуг оператора,  однако, предоставленные лимиты по звонкам и количеству смс, предоставленные абонентам тарифа \"Ультра\", не выбираются пользователями. Затраты трех четвертей абонентов тарифа \"Ультра\" не превышают абонентской платы.####\n",
    "\n",
    "#### Клиенты, использующие тариф \"Ультра\" используют услуги оператора  в объемах, которые варьируются в очень широких пределах, в отличие от пользователей тарифа \"Смарт\", количество услуг по которым можно описать распределением \"Пуассона\" с достаточно предсказуемыми значениями.####"
   ]
  },
  {
   "cell_type": "markdown",
   "metadata": {},
   "source": [
    "### [Шаг 4. Проверка гипотез](#content) <a id=\"step_4\"></a>"
   ]
  },
  {
   "cell_type": "markdown",
   "metadata": {},
   "source": [
    "* Гипотеза: \"средняя выручка пользователей тарифов «Ультра» и «Смарт» различается\""
   ]
  },
  {
   "cell_type": "markdown",
   "metadata": {},
   "source": [
    "Для проверки этой гипотезы необходимо сравнить средние значения двух совокупностей: срезы данных по условию принадлежности пользователей к тарифу. Сравниваются две выборки между собой.\n",
    "\n",
    "Сформулируем нулевую и альтернативную гипотезы:\n",
    "- H0: средняя выручка пользователей тарифа «Ультра» равна средней выручке пользователей тарифа «Смарт»\n",
    "- H1: средняя выручка пользователей тарифа «Ультра» не равна средней выручке пользователей тарифа «Смарт»\n",
    "\n",
    "Проверку произведем методом `scipy.stats.ttest_ind (array1, array2, equal_var)`для двух неравных выборок"
   ]
  },
  {
   "cell_type": "code",
   "execution_count": 49,
   "metadata": {},
   "outputs": [
    {
     "name": "stdout",
     "output_type": "stream",
     "text": [
      "Средняя выручка по пользователям тарифа \"Ультра\": 2071.1\n",
      "Средняя выручка по пользователям тарифа \"Смарт\": 1294.6\n"
     ]
    }
   ],
   "source": [
    "print(\n",
    "    'Средняя выручка по пользователям тарифа \"Ультра\":',\n",
    "     round(data.query('tariff == \"ultra\"')['total_sum'].mean(),1)\n",
    "    )\n",
    "print(\n",
    "    'Средняя выручка по пользователям тарифа \"Смарт\":',\n",
    "     round(data.query('tariff == \"smart\"')['total_sum'].mean(),1)\n",
    "      )"
   ]
  },
  {
   "cell_type": "markdown",
   "metadata": {},
   "source": [
    "Среднее значение отличается, зададим параметр alpha = 0.01"
   ]
  },
  {
   "cell_type": "code",
   "execution_count": 50,
   "metadata": {},
   "outputs": [
    {
     "name": "stdout",
     "output_type": "stream",
     "text": [
      "p-значение: 2.9776448000521676e-158\n",
      "Отвергаем нулевую гипотезу\n"
     ]
    }
   ],
   "source": [
    "alpha = 0.01\n",
    "\n",
    "results_t = st.ttest_ind(data.query('tariff == \"ultra\"')['total_sum'],data.query('tariff == \"smart\"')['total_sum'])\n",
    "\n",
    "print('p-значение:', results_t.pvalue)\n",
    "\n",
    "if results_t.pvalue < alpha:\n",
    "    print('Отвергаем нулевую гипотезу')\n",
    "else:\n",
    "    print('Не получилось отвергнуть нулевую гипотезу')"
   ]
  },
  {
   "cell_type": "markdown",
   "metadata": {},
   "source": [
    "##### С высокой долей вероятности гипотеза: \"средняя выручка пользователей тарифов «Ультра» и «Смарт» различается\" может быть принята"
   ]
  },
  {
   "cell_type": "markdown",
   "metadata": {},
   "source": [
    "* Гипотеза: \"Cредняя выручка пользователей из Москвы отличается от выручки пользователей из других регионов\""
   ]
  },
  {
   "cell_type": "markdown",
   "metadata": {},
   "source": [
    "Для проверки этой гипотезы необходимо сравнить средние значения двух совокупностей: срезы данных по условию \"пользователь из Москвы\" или \"пользователь не из Москвы\". Сравниваются две выборки между собой.\n",
    "\n",
    "Сформулируем нулевую и альтернативную гипотезы:\n",
    "\n",
    "- H0: Cредняя выручка пользователей из Москвы равна средней выручке пользователей из других регионов\n",
    "- H1: Cредняя выручка пользователей из Москвы  не равна средней выручке пользователей из других регионов\n",
    "\n",
    "Проверку произведем методом `scipy.stats.ttest_ind (array1, array2, equal_var)`"
   ]
  },
  {
   "cell_type": "code",
   "execution_count": 51,
   "metadata": {},
   "outputs": [
    {
     "name": "stdout",
     "output_type": "stream",
     "text": [
      "Средняя выручка пользователей из Москвы: 1550.8\n",
      "Средняя выручка пользователей не из Москвы: 1528.3\n"
     ]
    }
   ],
   "source": [
    "print(\n",
    "    'Средняя выручка пользователей из Москвы:',\n",
    "    round(data.query('city == \"Москва\"')['total_sum'].mean(),1)\n",
    "    )\n",
    "print(\n",
    "    'Средняя выручка пользователей не из Москвы:',\n",
    "     round(data.query('city != \"Москва\"')['total_sum'].mean(),1)\n",
    "      )"
   ]
  },
  {
   "cell_type": "markdown",
   "metadata": {},
   "source": [
    "Среднее значение похоже, зададим параметр alpha = 0.01 "
   ]
  },
  {
   "cell_type": "code",
   "execution_count": 52,
   "metadata": {},
   "outputs": [
    {
     "name": "stdout",
     "output_type": "stream",
     "text": [
      "p-значение: 0.531666503831252\n",
      "Не получилось отвергнуть нулевую гипотезу\n"
     ]
    }
   ],
   "source": [
    "alpha = 0.05\n",
    "\n",
    "results_m = st.ttest_ind(data.query('city == \"Москва\"')['total_sum'],data.query('city != \"Москва\"')['total_sum'])\n",
    "\n",
    "print('p-значение:', results_m.pvalue)\n",
    "\n",
    "if results_m.pvalue < alpha:\n",
    "    print('Отвергаем нулевую гипотезу')\n",
    "else:\n",
    "    print('Не получилось отвергнуть нулевую гипотезу')"
   ]
  },
  {
   "cell_type": "markdown",
   "metadata": {},
   "source": [
    "##### Не можем отвергнуть нулевую гипотезу о равенстве выручки пользователей из Москвы и пользователей из других регионов."
   ]
  },
  {
   "cell_type": "markdown",
   "metadata": {},
   "source": [
    "#### Клиенты, использующие тариф \"Ультра\" приносят оператору больший доход. Выручка пользователей из Москвы такая же, как и пользователей других городов."
   ]
  },
  {
   "cell_type": "markdown",
   "metadata": {},
   "source": [
    "### [Шаг 5. Общий вывод](#content) <a id=\"step_5\"></a>"
   ]
  },
  {
   "cell_type": "markdown",
   "metadata": {},
   "source": [
    "### Были изучены сведения об использовании двух тарифов оператора \"Мегалайн\". Пользователи не всегда используют все включенные в абонентскую плату услуги: некоторые не использовали смс, кто-то не использовал даже голосовую связь, а пользовался исключительно интернетом. Все большее распространение получают тарифные планы, в которых предоставляется исключительно интернет.\n",
    "\n",
    "### За исследуемый период увеличилось количество пользователей. Из представленных для анализа тарифов наибольшую среднюю выручку на пользователя приносит тарифный план \"Ультра\", не зависимо от того, в каком городе находится его пользователь. При этом больше выручки за год суммарно по всем пользователям больше от пользователей тарифа \"Смарт\" (нам неизвестны условные затраты на обслуживание одного пользователя, соответственно, сложнее оценить доходность)\n",
    "\n",
    "### Рекомендации по развитию тарифа должны быть основаны на стратегии оператора: либо привлечение клиентов (предложение востребованных услуг по доступной цене (нацеленность на тариф \"Смарт\"), либо повышение стоимости для имеющихся клиентов (риск снижения лояльности клиентов)."
   ]
  },
  {
   "cell_type": "code",
   "execution_count": null,
   "metadata": {},
   "outputs": [],
   "source": []
  }
 ],
 "metadata": {
  "kernelspec": {
   "display_name": "Python 3",
   "language": "python",
   "name": "python3"
  },
  "language_info": {
   "codemirror_mode": {
    "name": "ipython",
    "version": 3
   },
   "file_extension": ".py",
   "mimetype": "text/x-python",
   "name": "python",
   "nbconvert_exporter": "python",
   "pygments_lexer": "ipython3",
   "version": "3.8.3"
  },
  "toc": {
   "base_numbering": 1,
   "nav_menu": {},
   "number_sections": false,
   "sideBar": true,
   "skip_h1_title": false,
   "title_cell": "Table of Contents",
   "title_sidebar": "Contents",
   "toc_cell": false,
   "toc_position": {},
   "toc_section_display": true,
   "toc_window_display": false
  }
 },
 "nbformat": 4,
 "nbformat_minor": 2
}
